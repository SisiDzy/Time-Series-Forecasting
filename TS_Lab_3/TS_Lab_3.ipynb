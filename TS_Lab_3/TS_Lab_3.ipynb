{
  "nbformat": 4,
  "nbformat_minor": 0,
  "metadata": {
    "colab": {
      "provenance": []
    },
    "kernelspec": {
      "name": "python3",
      "display_name": "Python 3"
    },
    "language_info": {
      "name": "python"
    }
  },
  "cells": [
    {
      "cell_type": "code",
      "source": [
        "import numpy as np\n",
        "import pandas as pd\n",
        "import matplotlib.pyplot as plt\n",
        "import seaborn as sns\n",
        "\n",
        "from scipy import stats\n",
        "import statsmodels.api as sm\n",
        "import statsmodels.formula.api as smf"
      ],
      "metadata": {
        "id": "E5ad_JdNqkIM"
      },
      "execution_count": null,
      "outputs": []
    },
    {
      "cell_type": "markdown",
      "source": [
        "### 1.​​Create​ ​a ​​multivariate​ ​time​ ​series; ​​perform ​​any​ ​interpolations.​​​​"
      ],
      "metadata": {
        "id": "3VL7KxGFidst"
      }
    },
    {
      "cell_type": "markdown",
      "source": [
        "**Dependent variable**: helppoor_pct (%people who think that the government should do everything possible to improve the standard of living of all poor Americans).\n",
        "\n",
        "**Independent variables**:\n",
        "1. year\n",
        "2. age\n",
        "3. income\n",
        "4. ba_pct (%people with a BA or higher degree)\n",
        "5. liberal_pct (%people who think they are liberals)"
      ],
      "metadata": {
        "id": "vC5_5s5eY86u"
      }
    },
    {
      "cell_type": "code",
      "execution_count": null,
      "metadata": {
        "id": "V8dXMAD1icgw"
      },
      "outputs": [],
      "source": [
        "# Grab the data that we need\n",
        "gss = pd.read_csv(\"trends-gss.csv\")\n",
        "variables = [\"year\", \"helppoor\", \"age\", \"degree\", \"realinc\", \"polviews\"]\n",
        "sub = gss[variables].copy()"
      ]
    },
    {
      "cell_type": "code",
      "source": [
        "# Recode variables and create indicator variables\n",
        "sub['nhelppoor'] = np.where(sub['helppoor'] <= 2, 1, 0)\n",
        "sub['baplus'] = np.where(sub['degree'] >= 3, 1, 0)\n",
        "sub['liberal'] = np.where(sub['polviews'] <= 3, 1, 0)\n",
        "sub['income'] = sub['realinc']"
      ],
      "metadata": {
        "id": "MCYHWAwtr6Tx"
      },
      "execution_count": null,
      "outputs": []
    },
    {
      "cell_type": "code",
      "source": [
        "# Get means by year\n",
        "by_year = sub.groupby('year', as_index = False).agg('mean').replace({0.000000: np.nan})"
      ],
      "metadata": {
        "id": "kdF3bBemsCNW"
      },
      "execution_count": null,
      "outputs": []
    },
    {
      "cell_type": "code",
      "source": [
        "# Add additional years to the dataframe by creating a separate dataframe for the new years\n",
        "add_years_df = pd.DataFrame(data = pd.Series([1979, 1981, 1992, 1995] + list(np.arange(1997, 2012, 2))),\n",
        "                            columns = ['year'])\n",
        "\n",
        "# Append them to the original dataframe\n",
        "by_year = pd.concat([by_year, add_years_df], sort = False, ignore_index = True)"
      ],
      "metadata": {
        "id": "YqGAItf3sewM"
      },
      "execution_count": null,
      "outputs": []
    },
    {
      "cell_type": "code",
      "source": [
        "by_year = by_year.sort_values('year')\n",
        "by_year = by_year.set_index(\"year\", drop = False)\n",
        "\n",
        "# Interpolate missing values of time series linearly\n",
        "by_year_ts = by_year.interpolate(method = 'linear')"
      ],
      "metadata": {
        "id": "ArD11xAHsjg6"
      },
      "execution_count": null,
      "outputs": []
    },
    {
      "cell_type": "code",
      "source": [
        "# Drop na values from 1972 and in essence, the whole row because it's values cannot be interpolated\n",
        "by_year_ts=by_year_ts.dropna()"
      ],
      "metadata": {
        "id": "mORZWHidu7dO"
      },
      "execution_count": null,
      "outputs": []
    },
    {
      "cell_type": "code",
      "source": [
        "# Convert to percentage terms\n",
        "by_year_ts['helppoor_pct'] = by_year_ts['nhelppoor']*100\n",
        "by_year_ts['ba_pct'] = by_year_ts['baplus']*100\n",
        "by_year_ts['liberal_pct'] = by_year_ts['liberal']*100"
      ],
      "metadata": {
        "id": "GOt-LhOUsmWG"
      },
      "execution_count": null,
      "outputs": []
    },
    {
      "cell_type": "markdown",
      "source": [
        "### 2.​​Graph​​ the ​​relationships ​​between​ ​X ​​and ​​Y.​ ​Explain ​​how ​​you ​​think ​​Y ​​should ​​relate​ ​to ​​your ​​key​ ​Xs.​​​​"
      ],
      "metadata": {
        "id": "efjttXHZizHO"
      }
    },
    {
      "cell_type": "code",
      "source": [
        "# Graph correlation between time series\n",
        "corr_vars = ['helppoor_pct', 'ba_pct', 'liberal_pct', 'age', 'income', 'year']\n",
        "by_year_ts[corr_vars].corr()"
      ],
      "metadata": {
        "id": "Ho6s121Viu49",
        "colab": {
          "base_uri": "https://localhost:8080/",
          "height": 238
        },
        "outputId": "c2429af1-263e-49d3-d7d7-54b34b2f0f09"
      },
      "execution_count": null,
      "outputs": [
        {
          "output_type": "execute_result",
          "data": {
            "text/plain": [
              "              helppoor_pct    ba_pct  liberal_pct       age    income  \\\n",
              "helppoor_pct      1.000000 -0.872764     0.401635 -0.594757 -0.683411   \n",
              "ba_pct           -0.872764  1.000000    -0.224805  0.829282  0.699829   \n",
              "liberal_pct       0.401635 -0.224805     1.000000  0.061170 -0.523861   \n",
              "age              -0.594757  0.829282     0.061170  1.000000  0.534446   \n",
              "income           -0.683411  0.699829    -0.523861  0.534446  1.000000   \n",
              "year             -0.843903  0.977158    -0.174176  0.878680  0.668669   \n",
              "\n",
              "                  year  \n",
              "helppoor_pct -0.843903  \n",
              "ba_pct        0.977158  \n",
              "liberal_pct  -0.174176  \n",
              "age           0.878680  \n",
              "income        0.668669  \n",
              "year          1.000000  "
            ],
            "text/html": [
              "\n",
              "  <div id=\"df-a6919c29-5c14-4af9-9cda-7cabd6c74172\" class=\"colab-df-container\">\n",
              "    <div>\n",
              "<style scoped>\n",
              "    .dataframe tbody tr th:only-of-type {\n",
              "        vertical-align: middle;\n",
              "    }\n",
              "\n",
              "    .dataframe tbody tr th {\n",
              "        vertical-align: top;\n",
              "    }\n",
              "\n",
              "    .dataframe thead th {\n",
              "        text-align: right;\n",
              "    }\n",
              "</style>\n",
              "<table border=\"1\" class=\"dataframe\">\n",
              "  <thead>\n",
              "    <tr style=\"text-align: right;\">\n",
              "      <th></th>\n",
              "      <th>helppoor_pct</th>\n",
              "      <th>ba_pct</th>\n",
              "      <th>liberal_pct</th>\n",
              "      <th>age</th>\n",
              "      <th>income</th>\n",
              "      <th>year</th>\n",
              "    </tr>\n",
              "  </thead>\n",
              "  <tbody>\n",
              "    <tr>\n",
              "      <th>helppoor_pct</th>\n",
              "      <td>1.000000</td>\n",
              "      <td>-0.872764</td>\n",
              "      <td>0.401635</td>\n",
              "      <td>-0.594757</td>\n",
              "      <td>-0.683411</td>\n",
              "      <td>-0.843903</td>\n",
              "    </tr>\n",
              "    <tr>\n",
              "      <th>ba_pct</th>\n",
              "      <td>-0.872764</td>\n",
              "      <td>1.000000</td>\n",
              "      <td>-0.224805</td>\n",
              "      <td>0.829282</td>\n",
              "      <td>0.699829</td>\n",
              "      <td>0.977158</td>\n",
              "    </tr>\n",
              "    <tr>\n",
              "      <th>liberal_pct</th>\n",
              "      <td>0.401635</td>\n",
              "      <td>-0.224805</td>\n",
              "      <td>1.000000</td>\n",
              "      <td>0.061170</td>\n",
              "      <td>-0.523861</td>\n",
              "      <td>-0.174176</td>\n",
              "    </tr>\n",
              "    <tr>\n",
              "      <th>age</th>\n",
              "      <td>-0.594757</td>\n",
              "      <td>0.829282</td>\n",
              "      <td>0.061170</td>\n",
              "      <td>1.000000</td>\n",
              "      <td>0.534446</td>\n",
              "      <td>0.878680</td>\n",
              "    </tr>\n",
              "    <tr>\n",
              "      <th>income</th>\n",
              "      <td>-0.683411</td>\n",
              "      <td>0.699829</td>\n",
              "      <td>-0.523861</td>\n",
              "      <td>0.534446</td>\n",
              "      <td>1.000000</td>\n",
              "      <td>0.668669</td>\n",
              "    </tr>\n",
              "    <tr>\n",
              "      <th>year</th>\n",
              "      <td>-0.843903</td>\n",
              "      <td>0.977158</td>\n",
              "      <td>-0.174176</td>\n",
              "      <td>0.878680</td>\n",
              "      <td>0.668669</td>\n",
              "      <td>1.000000</td>\n",
              "    </tr>\n",
              "  </tbody>\n",
              "</table>\n",
              "</div>\n",
              "    <div class=\"colab-df-buttons\">\n",
              "\n",
              "  <div class=\"colab-df-container\">\n",
              "    <button class=\"colab-df-convert\" onclick=\"convertToInteractive('df-a6919c29-5c14-4af9-9cda-7cabd6c74172')\"\n",
              "            title=\"Convert this dataframe to an interactive table.\"\n",
              "            style=\"display:none;\">\n",
              "\n",
              "  <svg xmlns=\"http://www.w3.org/2000/svg\" height=\"24px\" viewBox=\"0 -960 960 960\">\n",
              "    <path d=\"M120-120v-720h720v720H120Zm60-500h600v-160H180v160Zm220 220h160v-160H400v160Zm0 220h160v-160H400v160ZM180-400h160v-160H180v160Zm440 0h160v-160H620v160ZM180-180h160v-160H180v160Zm440 0h160v-160H620v160Z\"/>\n",
              "  </svg>\n",
              "    </button>\n",
              "\n",
              "  <style>\n",
              "    .colab-df-container {\n",
              "      display:flex;\n",
              "      gap: 12px;\n",
              "    }\n",
              "\n",
              "    .colab-df-convert {\n",
              "      background-color: #E8F0FE;\n",
              "      border: none;\n",
              "      border-radius: 50%;\n",
              "      cursor: pointer;\n",
              "      display: none;\n",
              "      fill: #1967D2;\n",
              "      height: 32px;\n",
              "      padding: 0 0 0 0;\n",
              "      width: 32px;\n",
              "    }\n",
              "\n",
              "    .colab-df-convert:hover {\n",
              "      background-color: #E2EBFA;\n",
              "      box-shadow: 0px 1px 2px rgba(60, 64, 67, 0.3), 0px 1px 3px 1px rgba(60, 64, 67, 0.15);\n",
              "      fill: #174EA6;\n",
              "    }\n",
              "\n",
              "    .colab-df-buttons div {\n",
              "      margin-bottom: 4px;\n",
              "    }\n",
              "\n",
              "    [theme=dark] .colab-df-convert {\n",
              "      background-color: #3B4455;\n",
              "      fill: #D2E3FC;\n",
              "    }\n",
              "\n",
              "    [theme=dark] .colab-df-convert:hover {\n",
              "      background-color: #434B5C;\n",
              "      box-shadow: 0px 1px 3px 1px rgba(0, 0, 0, 0.15);\n",
              "      filter: drop-shadow(0px 1px 2px rgba(0, 0, 0, 0.3));\n",
              "      fill: #FFFFFF;\n",
              "    }\n",
              "  </style>\n",
              "\n",
              "    <script>\n",
              "      const buttonEl =\n",
              "        document.querySelector('#df-a6919c29-5c14-4af9-9cda-7cabd6c74172 button.colab-df-convert');\n",
              "      buttonEl.style.display =\n",
              "        google.colab.kernel.accessAllowed ? 'block' : 'none';\n",
              "\n",
              "      async function convertToInteractive(key) {\n",
              "        const element = document.querySelector('#df-a6919c29-5c14-4af9-9cda-7cabd6c74172');\n",
              "        const dataTable =\n",
              "          await google.colab.kernel.invokeFunction('convertToInteractive',\n",
              "                                                    [key], {});\n",
              "        if (!dataTable) return;\n",
              "\n",
              "        const docLinkHtml = 'Like what you see? Visit the ' +\n",
              "          '<a target=\"_blank\" href=https://colab.research.google.com/notebooks/data_table.ipynb>data table notebook</a>'\n",
              "          + ' to learn more about interactive tables.';\n",
              "        element.innerHTML = '';\n",
              "        dataTable['output_type'] = 'display_data';\n",
              "        await google.colab.output.renderOutput(dataTable, element);\n",
              "        const docLink = document.createElement('div');\n",
              "        docLink.innerHTML = docLinkHtml;\n",
              "        element.appendChild(docLink);\n",
              "      }\n",
              "    </script>\n",
              "  </div>\n",
              "\n",
              "\n",
              "<div id=\"df-6a443203-375e-49a1-82b6-f1cfb8fe789e\">\n",
              "  <button class=\"colab-df-quickchart\" onclick=\"quickchart('df-6a443203-375e-49a1-82b6-f1cfb8fe789e')\"\n",
              "            title=\"Suggest charts\"\n",
              "            style=\"display:none;\">\n",
              "\n",
              "<svg xmlns=\"http://www.w3.org/2000/svg\" height=\"24px\"viewBox=\"0 0 24 24\"\n",
              "     width=\"24px\">\n",
              "    <g>\n",
              "        <path d=\"M19 3H5c-1.1 0-2 .9-2 2v14c0 1.1.9 2 2 2h14c1.1 0 2-.9 2-2V5c0-1.1-.9-2-2-2zM9 17H7v-7h2v7zm4 0h-2V7h2v10zm4 0h-2v-4h2v4z\"/>\n",
              "    </g>\n",
              "</svg>\n",
              "  </button>\n",
              "\n",
              "<style>\n",
              "  .colab-df-quickchart {\n",
              "      --bg-color: #E8F0FE;\n",
              "      --fill-color: #1967D2;\n",
              "      --hover-bg-color: #E2EBFA;\n",
              "      --hover-fill-color: #174EA6;\n",
              "      --disabled-fill-color: #AAA;\n",
              "      --disabled-bg-color: #DDD;\n",
              "  }\n",
              "\n",
              "  [theme=dark] .colab-df-quickchart {\n",
              "      --bg-color: #3B4455;\n",
              "      --fill-color: #D2E3FC;\n",
              "      --hover-bg-color: #434B5C;\n",
              "      --hover-fill-color: #FFFFFF;\n",
              "      --disabled-bg-color: #3B4455;\n",
              "      --disabled-fill-color: #666;\n",
              "  }\n",
              "\n",
              "  .colab-df-quickchart {\n",
              "    background-color: var(--bg-color);\n",
              "    border: none;\n",
              "    border-radius: 50%;\n",
              "    cursor: pointer;\n",
              "    display: none;\n",
              "    fill: var(--fill-color);\n",
              "    height: 32px;\n",
              "    padding: 0;\n",
              "    width: 32px;\n",
              "  }\n",
              "\n",
              "  .colab-df-quickchart:hover {\n",
              "    background-color: var(--hover-bg-color);\n",
              "    box-shadow: 0 1px 2px rgba(60, 64, 67, 0.3), 0 1px 3px 1px rgba(60, 64, 67, 0.15);\n",
              "    fill: var(--button-hover-fill-color);\n",
              "  }\n",
              "\n",
              "  .colab-df-quickchart-complete:disabled,\n",
              "  .colab-df-quickchart-complete:disabled:hover {\n",
              "    background-color: var(--disabled-bg-color);\n",
              "    fill: var(--disabled-fill-color);\n",
              "    box-shadow: none;\n",
              "  }\n",
              "\n",
              "  .colab-df-spinner {\n",
              "    border: 2px solid var(--fill-color);\n",
              "    border-color: transparent;\n",
              "    border-bottom-color: var(--fill-color);\n",
              "    animation:\n",
              "      spin 1s steps(1) infinite;\n",
              "  }\n",
              "\n",
              "  @keyframes spin {\n",
              "    0% {\n",
              "      border-color: transparent;\n",
              "      border-bottom-color: var(--fill-color);\n",
              "      border-left-color: var(--fill-color);\n",
              "    }\n",
              "    20% {\n",
              "      border-color: transparent;\n",
              "      border-left-color: var(--fill-color);\n",
              "      border-top-color: var(--fill-color);\n",
              "    }\n",
              "    30% {\n",
              "      border-color: transparent;\n",
              "      border-left-color: var(--fill-color);\n",
              "      border-top-color: var(--fill-color);\n",
              "      border-right-color: var(--fill-color);\n",
              "    }\n",
              "    40% {\n",
              "      border-color: transparent;\n",
              "      border-right-color: var(--fill-color);\n",
              "      border-top-color: var(--fill-color);\n",
              "    }\n",
              "    60% {\n",
              "      border-color: transparent;\n",
              "      border-right-color: var(--fill-color);\n",
              "    }\n",
              "    80% {\n",
              "      border-color: transparent;\n",
              "      border-right-color: var(--fill-color);\n",
              "      border-bottom-color: var(--fill-color);\n",
              "    }\n",
              "    90% {\n",
              "      border-color: transparent;\n",
              "      border-bottom-color: var(--fill-color);\n",
              "    }\n",
              "  }\n",
              "</style>\n",
              "\n",
              "  <script>\n",
              "    async function quickchart(key) {\n",
              "      const quickchartButtonEl =\n",
              "        document.querySelector('#' + key + ' button');\n",
              "      quickchartButtonEl.disabled = true;  // To prevent multiple clicks.\n",
              "      quickchartButtonEl.classList.add('colab-df-spinner');\n",
              "      try {\n",
              "        const charts = await google.colab.kernel.invokeFunction(\n",
              "            'suggestCharts', [key], {});\n",
              "      } catch (error) {\n",
              "        console.error('Error during call to suggestCharts:', error);\n",
              "      }\n",
              "      quickchartButtonEl.classList.remove('colab-df-spinner');\n",
              "      quickchartButtonEl.classList.add('colab-df-quickchart-complete');\n",
              "    }\n",
              "    (() => {\n",
              "      let quickchartButtonEl =\n",
              "        document.querySelector('#df-6a443203-375e-49a1-82b6-f1cfb8fe789e button');\n",
              "      quickchartButtonEl.style.display =\n",
              "        google.colab.kernel.accessAllowed ? 'block' : 'none';\n",
              "    })();\n",
              "  </script>\n",
              "</div>\n",
              "    </div>\n",
              "  </div>\n"
            ]
          },
          "metadata": {},
          "execution_count": 34
        }
      ]
    },
    {
      "cell_type": "code",
      "source": [
        "sns.heatmap(by_year_ts[corr_vars].corr())"
      ],
      "metadata": {
        "colab": {
          "base_uri": "https://localhost:8080/",
          "height": 530
        },
        "id": "NhEf8ZnVsr3e",
        "outputId": "05c66cd1-26d0-4e75-d445-e47de771032f"
      },
      "execution_count": null,
      "outputs": [
        {
          "output_type": "execute_result",
          "data": {
            "text/plain": [
              "<Axes: >"
            ]
          },
          "metadata": {},
          "execution_count": 35
        },
        {
          "output_type": "display_data",
          "data": {
            "text/plain": [
              "<Figure size 640x480 with 2 Axes>"
            ],
            "image/png": "[encoded data removed]"
          },
          "metadata": {}
        }
      ]
    },
    {
      "cell_type": "code",
      "source": [
        "fig, axes = plt.subplots(nrows=2, ncols=2, figsize=(10,10))\n",
        "\n",
        "by_year_ts['helppoor_pct'].plot(title = 'Percent Help Poor', color = 'orange', ax = axes[0,0], grid = True)\n",
        "by_year_ts['ba_pct'].plot(title = 'Percent with BA Degrees', color = 'purple', ax = axes[0,1], grid = True)\n",
        "by_year_ts['liberal_pct'].plot(title = 'Percent of Liberals', color = 'g', ax = axes[1,0], grid = True)\n",
        "by_year_ts['income'].plot(title = 'Income', color = 'b', ax = axes[1,1], grid = True)\n",
        "\n",
        "plt.show()"
      ],
      "metadata": {
        "colab": {
          "base_uri": "https://localhost:8080/",
          "height": 872
        },
        "id": "oO8Q-uU5svDO",
        "outputId": "e6b7d1d5-50c0-4cdd-eb73-763d67f5d12e"
      },
      "execution_count": null,
      "outputs": [
        {
          "output_type": "display_data",
          "data": {
            "text/plain": [
              "<Figure size 1000x1000 with 4 Axes>"
            ],
            "image/png": "[encoded data removed]"
          },
          "metadata": {}
        }
      ]
    },
    {
      "cell_type": "markdown",
      "source": [
        "According to the above graphs, we can see that my dependent variable Y which is the percent of people who think the government should help poors has a decreasing trend over years. I think it is negatively associated with the percent of people who have a BA or higher degree. People with higher education levels may lean toward ideologies that emphasize individual responsibility and limited government intervention.\n",
        "\n",
        "Moreover, I think that the percent of people who think the government should help poors is positively associated with the percent of people who are liberal, even though the graphs don't show an obvious relationship between them. If a person is liberal, he or she may advocate for government intervention.\n",
        "\n",
        "If we see the trend on income, while it also doesn't show an obvious relationship with the percent of people who think the government should help poors, we can see a gradual increase in income, which shows a negative correlation with the dependent variable Y. People who are richer may also lean toward ideologies that emphasize individual responsibility."
      ],
      "metadata": {
        "id": "ihT8uA9TZMfR"
      }
    },
    {
      "cell_type": "markdown",
      "source": [
        "### ​​3.​​Run​ ​a ​​simple​​ time ​​series​ ​regression,​ ​with​ ​one ​​X ​​and ​​no​ ​trend. ​​​​Interpret​ ​it.​​​​"
      ],
      "metadata": {
        "id": "x1FAfbECi-ZS"
      }
    },
    {
      "cell_type": "code",
      "source": [
        "lm_hpp = smf.ols('helppoor_pct ~ ba_pct', data = by_year_ts).fit()\n",
        "lm_hpp.summary()"
      ],
      "metadata": {
        "colab": {
          "base_uri": "https://localhost:8080/",
          "height": 452
        },
        "id": "0F9YcUKgs98g",
        "outputId": "476d0be5-fc20-452a-ce37-48cfc34a3a9a"
      },
      "execution_count": null,
      "outputs": [
        {
          "output_type": "execute_result",
          "data": {
            "text/plain": [
              "<class 'statsmodels.iolib.summary.Summary'>\n",
              "\"\"\"\n",
              "                            OLS Regression Results                            \n",
              "==============================================================================\n",
              "Dep. Variable:           helppoor_pct   R-squared:                       0.762\n",
              "Model:                            OLS   Adj. R-squared:                  0.755\n",
              "Method:                 Least Squares   F-statistic:                     115.1\n",
              "Date:                Thu, 14 Dec 2023   Prob (F-statistic):           9.21e-13\n",
              "Time:                        19:34:13   Log-Likelihood:                -109.83\n",
              "No. Observations:                  38   AIC:                             223.7\n",
              "Df Residuals:                      36   BIC:                             226.9\n",
              "Df Model:                           1                                         \n",
              "Covariance Type:            nonrobust                                         \n",
              "==============================================================================\n",
              "                 coef    std err          t      P>|t|      [0.025      0.975]\n",
              "------------------------------------------------------------------------------\n",
              "Intercept     55.7126      3.177     17.537      0.000      49.269      62.156\n",
              "ba_pct        -1.5510      0.145    -10.728      0.000      -1.844      -1.258\n",
              "==============================================================================\n",
              "Omnibus:                        1.030   Durbin-Watson:                   0.536\n",
              "Prob(Omnibus):                  0.598   Jarque-Bera (JB):                0.918\n",
              "Skew:                           0.147   Prob(JB):                        0.632\n",
              "Kurtosis:                       2.298   Cond. No.                         96.4\n",
              "==============================================================================\n",
              "\n",
              "Notes:\n",
              "[1] Standard Errors assume that the covariance matrix of the errors is correctly specified.\n",
              "\"\"\""
            ],
            "text/html": [
              "<table class=\"simpletable\">\n",
              "<caption>OLS Regression Results</caption>\n",
              "<tr>\n",
              "  <th>Dep. Variable:</th>      <td>helppoor_pct</td>   <th>  R-squared:         </th> <td>   0.762</td>\n",
              "</tr>\n",
              "<tr>\n",
              "  <th>Model:</th>                   <td>OLS</td>       <th>  Adj. R-squared:    </th> <td>   0.755</td>\n",
              "</tr>\n",
              "<tr>\n",
              "  <th>Method:</th>             <td>Least Squares</td>  <th>  F-statistic:       </th> <td>   115.1</td>\n",
              "</tr>\n",
              "<tr>\n",
              "  <th>Date:</th>             <td>Thu, 14 Dec 2023</td> <th>  Prob (F-statistic):</th> <td>9.21e-13</td>\n",
              "</tr>\n",
              "<tr>\n",
              "  <th>Time:</th>                 <td>19:34:13</td>     <th>  Log-Likelihood:    </th> <td> -109.83</td>\n",
              "</tr>\n",
              "<tr>\n",
              "  <th>No. Observations:</th>      <td>    38</td>      <th>  AIC:               </th> <td>   223.7</td>\n",
              "</tr>\n",
              "<tr>\n",
              "  <th>Df Residuals:</th>          <td>    36</td>      <th>  BIC:               </th> <td>   226.9</td>\n",
              "</tr>\n",
              "<tr>\n",
              "  <th>Df Model:</th>              <td>     1</td>      <th>                     </th>     <td> </td>   \n",
              "</tr>\n",
              "<tr>\n",
              "  <th>Covariance Type:</th>      <td>nonrobust</td>    <th>                     </th>     <td> </td>   \n",
              "</tr>\n",
              "</table>\n",
              "<table class=\"simpletable\">\n",
              "<tr>\n",
              "      <td></td>         <th>coef</th>     <th>std err</th>      <th>t</th>      <th>P>|t|</th>  <th>[0.025</th>    <th>0.975]</th>  \n",
              "</tr>\n",
              "<tr>\n",
              "  <th>Intercept</th> <td>   55.7126</td> <td>    3.177</td> <td>   17.537</td> <td> 0.000</td> <td>   49.269</td> <td>   62.156</td>\n",
              "</tr>\n",
              "<tr>\n",
              "  <th>ba_pct</th>    <td>   -1.5510</td> <td>    0.145</td> <td>  -10.728</td> <td> 0.000</td> <td>   -1.844</td> <td>   -1.258</td>\n",
              "</tr>\n",
              "</table>\n",
              "<table class=\"simpletable\">\n",
              "<tr>\n",
              "  <th>Omnibus:</th>       <td> 1.030</td> <th>  Durbin-Watson:     </th> <td>   0.536</td>\n",
              "</tr>\n",
              "<tr>\n",
              "  <th>Prob(Omnibus):</th> <td> 0.598</td> <th>  Jarque-Bera (JB):  </th> <td>   0.918</td>\n",
              "</tr>\n",
              "<tr>\n",
              "  <th>Skew:</th>          <td> 0.147</td> <th>  Prob(JB):          </th> <td>   0.632</td>\n",
              "</tr>\n",
              "<tr>\n",
              "  <th>Kurtosis:</th>      <td> 2.298</td> <th>  Cond. No.          </th> <td>    96.4</td>\n",
              "</tr>\n",
              "</table><br/><br/>Notes:<br/>[1] Standard Errors assume that the covariance matrix of the errors is correctly specified."
            ],
            "text/latex": "\\begin{center}\n\\begin{tabular}{lclc}\n\\toprule\n\\textbf{Dep. Variable:}    &  helppoor\\_pct   & \\textbf{  R-squared:         } &     0.762   \\\\\n\\textbf{Model:}            &       OLS        & \\textbf{  Adj. R-squared:    } &     0.755   \\\\\n\\textbf{Method:}           &  Least Squares   & \\textbf{  F-statistic:       } &     115.1   \\\\\n\\textbf{Date:}             & Thu, 14 Dec 2023 & \\textbf{  Prob (F-statistic):} &  9.21e-13   \\\\\n\\textbf{Time:}             &     19:34:13     & \\textbf{  Log-Likelihood:    } &   -109.83   \\\\\n\\textbf{No. Observations:} &          38      & \\textbf{  AIC:               } &     223.7   \\\\\n\\textbf{Df Residuals:}     &          36      & \\textbf{  BIC:               } &     226.9   \\\\\n\\textbf{Df Model:}         &           1      & \\textbf{                     } &             \\\\\n\\textbf{Covariance Type:}  &    nonrobust     & \\textbf{                     } &             \\\\\n\\bottomrule\n\\end{tabular}\n\\begin{tabular}{lcccccc}\n                   & \\textbf{coef} & \\textbf{std err} & \\textbf{t} & \\textbf{P$> |$t$|$} & \\textbf{[0.025} & \\textbf{0.975]}  \\\\\n\\midrule\n\\textbf{Intercept} &      55.7126  &        3.177     &    17.537  &         0.000        &       49.269    &       62.156     \\\\\n\\textbf{ba\\_pct}   &      -1.5510  &        0.145     &   -10.728  &         0.000        &       -1.844    &       -1.258     \\\\\n\\bottomrule\n\\end{tabular}\n\\begin{tabular}{lclc}\n\\textbf{Omnibus:}       &  1.030 & \\textbf{  Durbin-Watson:     } &    0.536  \\\\\n\\textbf{Prob(Omnibus):} &  0.598 & \\textbf{  Jarque-Bera (JB):  } &    0.918  \\\\\n\\textbf{Skew:}          &  0.147 & \\textbf{  Prob(JB):          } &    0.632  \\\\\n\\textbf{Kurtosis:}      &  2.298 & \\textbf{  Cond. No.          } &     96.4  \\\\\n\\bottomrule\n\\end{tabular}\n%\\caption{OLS Regression Results}\n\\end{center}\n\nNotes: \\newline\n [1] Standard Errors assume that the covariance matrix of the errors is correctly specified."
          },
          "metadata": {},
          "execution_count": 37
        }
      ]
    },
    {
      "cell_type": "markdown",
      "source": [
        "According to the above regression, for each percent increase in people with a BA or higher degree, there is on average a -1.55 percent decrease in people who think the government should help poors. It is highly statistically significant with a p-value smaller than 0.001.\n",
        "The r-sq is pretty high at 0.76, which means that 76% of the variation in people who think the government should help poors is explained by educational levels. However, these high R-sq values are deceptive because of aggregation bias. The model ignores a lot of individual variances."
      ],
      "metadata": {
        "id": "ShvVH2A-mYnM"
      }
    },
    {
      "cell_type": "markdown",
      "source": [
        "### 4.​​Run​ ​a​ ​time ​​series ​​regression ​​with​ ​one​ ​X​ ​and​ ​trend.​​​ ​Interpret​ ​it.​​​ ​Perform​ ​autocorrelation ​​diagnostics. Explain ​​what​ ​you​ ​found.​​​​"
      ],
      "metadata": {
        "id": "x5UmYocfjKyv"
      }
    },
    {
      "cell_type": "code",
      "source": [
        "lm_hpp2 = smf.ols('helppoor_pct ~ ba_pct + year', data = by_year_ts).fit()\n",
        "lm_hpp2.summary()"
      ],
      "metadata": {
        "id": "mimh3XjcjUpP",
        "colab": {
          "base_uri": "https://localhost:8080/",
          "height": 508
        },
        "outputId": "6e60027c-dacb-4c53-960f-bab79148c167"
      },
      "execution_count": null,
      "outputs": [
        {
          "output_type": "execute_result",
          "data": {
            "text/plain": [
              "<class 'statsmodels.iolib.summary.Summary'>\n",
              "\"\"\"\n",
              "                            OLS Regression Results                            \n",
              "==============================================================================\n",
              "Dep. Variable:           helppoor_pct   R-squared:                       0.763\n",
              "Model:                            OLS   Adj. R-squared:                  0.750\n",
              "Method:                 Least Squares   F-statistic:                     56.49\n",
              "Date:                Thu, 14 Dec 2023   Prob (F-statistic):           1.10e-11\n",
              "Time:                        19:34:13   Log-Likelihood:                -109.69\n",
              "No. Observations:                  38   AIC:                             225.4\n",
              "Df Residuals:                      35   BIC:                             230.3\n",
              "Df Model:                           2                                         \n",
              "Covariance Type:            nonrobust                                         \n",
              "==============================================================================\n",
              "                 coef    std err          t      P>|t|      [0.025      0.975]\n",
              "------------------------------------------------------------------------------\n",
              "Intercept   -257.4731    613.058     -0.420      0.677   -1502.047     987.101\n",
              "ba_pct        -1.8942      0.687     -2.755      0.009      -3.290      -0.499\n",
              "year           0.1608      0.315      0.511      0.613      -0.478       0.800\n",
              "==============================================================================\n",
              "Omnibus:                        0.699   Durbin-Watson:                   0.602\n",
              "Prob(Omnibus):                  0.705   Jarque-Bera (JB):                0.711\n",
              "Skew:                           0.033   Prob(JB):                        0.701\n",
              "Kurtosis:                       2.333   Cond. No.                     1.67e+06\n",
              "==============================================================================\n",
              "\n",
              "Notes:\n",
              "[1] Standard Errors assume that the covariance matrix of the errors is correctly specified.\n",
              "[2] The condition number is large, 1.67e+06. This might indicate that there are\n",
              "strong multicollinearity or other numerical problems.\n",
              "\"\"\""
            ],
            "text/html": [
              "<table class=\"simpletable\">\n",
              "<caption>OLS Regression Results</caption>\n",
              "<tr>\n",
              "  <th>Dep. Variable:</th>      <td>helppoor_pct</td>   <th>  R-squared:         </th> <td>   0.763</td>\n",
              "</tr>\n",
              "<tr>\n",
              "  <th>Model:</th>                   <td>OLS</td>       <th>  Adj. R-squared:    </th> <td>   0.750</td>\n",
              "</tr>\n",
              "<tr>\n",
              "  <th>Method:</th>             <td>Least Squares</td>  <th>  F-statistic:       </th> <td>   56.49</td>\n",
              "</tr>\n",
              "<tr>\n",
              "  <th>Date:</th>             <td>Thu, 14 Dec 2023</td> <th>  Prob (F-statistic):</th> <td>1.10e-11</td>\n",
              "</tr>\n",
              "<tr>\n",
              "  <th>Time:</th>                 <td>19:34:13</td>     <th>  Log-Likelihood:    </th> <td> -109.69</td>\n",
              "</tr>\n",
              "<tr>\n",
              "  <th>No. Observations:</th>      <td>    38</td>      <th>  AIC:               </th> <td>   225.4</td>\n",
              "</tr>\n",
              "<tr>\n",
              "  <th>Df Residuals:</th>          <td>    35</td>      <th>  BIC:               </th> <td>   230.3</td>\n",
              "</tr>\n",
              "<tr>\n",
              "  <th>Df Model:</th>              <td>     2</td>      <th>                     </th>     <td> </td>   \n",
              "</tr>\n",
              "<tr>\n",
              "  <th>Covariance Type:</th>      <td>nonrobust</td>    <th>                     </th>     <td> </td>   \n",
              "</tr>\n",
              "</table>\n",
              "<table class=\"simpletable\">\n",
              "<tr>\n",
              "      <td></td>         <th>coef</th>     <th>std err</th>      <th>t</th>      <th>P>|t|</th>  <th>[0.025</th>    <th>0.975]</th>  \n",
              "</tr>\n",
              "<tr>\n",
              "  <th>Intercept</th> <td> -257.4731</td> <td>  613.058</td> <td>   -0.420</td> <td> 0.677</td> <td>-1502.047</td> <td>  987.101</td>\n",
              "</tr>\n",
              "<tr>\n",
              "  <th>ba_pct</th>    <td>   -1.8942</td> <td>    0.687</td> <td>   -2.755</td> <td> 0.009</td> <td>   -3.290</td> <td>   -0.499</td>\n",
              "</tr>\n",
              "<tr>\n",
              "  <th>year</th>      <td>    0.1608</td> <td>    0.315</td> <td>    0.511</td> <td> 0.613</td> <td>   -0.478</td> <td>    0.800</td>\n",
              "</tr>\n",
              "</table>\n",
              "<table class=\"simpletable\">\n",
              "<tr>\n",
              "  <th>Omnibus:</th>       <td> 0.699</td> <th>  Durbin-Watson:     </th> <td>   0.602</td>\n",
              "</tr>\n",
              "<tr>\n",
              "  <th>Prob(Omnibus):</th> <td> 0.705</td> <th>  Jarque-Bera (JB):  </th> <td>   0.711</td>\n",
              "</tr>\n",
              "<tr>\n",
              "  <th>Skew:</th>          <td> 0.033</td> <th>  Prob(JB):          </th> <td>   0.701</td>\n",
              "</tr>\n",
              "<tr>\n",
              "  <th>Kurtosis:</th>      <td> 2.333</td> <th>  Cond. No.          </th> <td>1.67e+06</td>\n",
              "</tr>\n",
              "</table><br/><br/>Notes:<br/>[1] Standard Errors assume that the covariance matrix of the errors is correctly specified.<br/>[2] The condition number is large, 1.67e+06. This might indicate that there are<br/>strong multicollinearity or other numerical problems."
            ],
            "text/latex": "\\begin{center}\n\\begin{tabular}{lclc}\n\\toprule\n\\textbf{Dep. Variable:}    &  helppoor\\_pct   & \\textbf{  R-squared:         } &     0.763   \\\\\n\\textbf{Model:}            &       OLS        & \\textbf{  Adj. R-squared:    } &     0.750   \\\\\n\\textbf{Method:}           &  Least Squares   & \\textbf{  F-statistic:       } &     56.49   \\\\\n\\textbf{Date:}             & Thu, 14 Dec 2023 & \\textbf{  Prob (F-statistic):} &  1.10e-11   \\\\\n\\textbf{Time:}             &     19:34:13     & \\textbf{  Log-Likelihood:    } &   -109.69   \\\\\n\\textbf{No. Observations:} &          38      & \\textbf{  AIC:               } &     225.4   \\\\\n\\textbf{Df Residuals:}     &          35      & \\textbf{  BIC:               } &     230.3   \\\\\n\\textbf{Df Model:}         &           2      & \\textbf{                     } &             \\\\\n\\textbf{Covariance Type:}  &    nonrobust     & \\textbf{                     } &             \\\\\n\\bottomrule\n\\end{tabular}\n\\begin{tabular}{lcccccc}\n                   & \\textbf{coef} & \\textbf{std err} & \\textbf{t} & \\textbf{P$> |$t$|$} & \\textbf{[0.025} & \\textbf{0.975]}  \\\\\n\\midrule\n\\textbf{Intercept} &    -257.4731  &      613.058     &    -0.420  &         0.677        &    -1502.047    &      987.101     \\\\\n\\textbf{ba\\_pct}   &      -1.8942  &        0.687     &    -2.755  &         0.009        &       -3.290    &       -0.499     \\\\\n\\textbf{year}      &       0.1608  &        0.315     &     0.511  &         0.613        &       -0.478    &        0.800     \\\\\n\\bottomrule\n\\end{tabular}\n\\begin{tabular}{lclc}\n\\textbf{Omnibus:}       &  0.699 & \\textbf{  Durbin-Watson:     } &    0.602  \\\\\n\\textbf{Prob(Omnibus):} &  0.705 & \\textbf{  Jarque-Bera (JB):  } &    0.711  \\\\\n\\textbf{Skew:}          &  0.033 & \\textbf{  Prob(JB):          } &    0.701  \\\\\n\\textbf{Kurtosis:}      &  2.333 & \\textbf{  Cond. No.          } & 1.67e+06  \\\\\n\\bottomrule\n\\end{tabular}\n%\\caption{OLS Regression Results}\n\\end{center}\n\nNotes: \\newline\n [1] Standard Errors assume that the covariance matrix of the errors is correctly specified. \\newline\n [2] The condition number is large, 1.67e+06. This might indicate that there are \\newline\n strong multicollinearity or other numerical problems."
          },
          "metadata": {},
          "execution_count": 38
        }
      ]
    },
    {
      "cell_type": "markdown",
      "source": [
        "According to the above regression, for each percent increase in people with a BA or higher degree, there is on average a -1.89 percent decrease in people who think the government should help poors. It is statistically significant with a p-value less than 0.05.\n",
        "\n",
        "And with every year, the percent of people who think the government should help poors increases by 0.16 on average. It is not statistically significant with a p-value much higher than 0.05.\n",
        "\n",
        "The r-sq is also high at 0.76, which means that 76% of the variation in people who think the government should help poors is explained by the independent variables in this model."
      ],
      "metadata": {
        "id": "PBabqxVdmZ1g"
      }
    },
    {
      "cell_type": "markdown",
      "source": [
        "**Test for heteroscedasticity using Breuschgpagan Test**"
      ],
      "metadata": {
        "id": "2OIbpxM8rGmu"
      }
    },
    {
      "cell_type": "code",
      "source": [
        "from statsmodels.compat import lzip\n",
        "\n",
        "name = ['BP', 'p-value', 'f-value', 'f p-value']\n",
        "test2 = sm.stats.diagnostic.het_breuschpagan(lm_hpp2.resid, lm_hpp2.model.exog)\n",
        "lzip(name, test2)"
      ],
      "metadata": {
        "colab": {
          "base_uri": "https://localhost:8080/"
        },
        "id": "-rVJ0eWttZqt",
        "outputId": "ff62be02-b5a4-47d0-ff56-35a5b1e23030"
      },
      "execution_count": null,
      "outputs": [
        {
          "output_type": "execute_result",
          "data": {
            "text/plain": [
              "[('BP', 10.792531043721361),\n",
              " ('p-value', 0.004533479549506884),\n",
              " ('f-value', 6.941817835706419),\n",
              " ('f p-value', 0.0028895455816381624)]"
            ]
          },
          "metadata": {},
          "execution_count": 39
        }
      ]
    },
    {
      "cell_type": "markdown",
      "source": [
        "The p-value is less than 0.05, proving that the test result is significant and the null hypothesis is not true. Therefore, heteroscedasticity is present in this model."
      ],
      "metadata": {
        "id": "R-Aadd7QqgS6"
      }
    },
    {
      "cell_type": "markdown",
      "source": [
        "**Test for autocorrelation**"
      ],
      "metadata": {
        "id": "V8xesBpIrNvg"
      }
    },
    {
      "cell_type": "code",
      "source": [
        "from statsmodels.tsa.stattools import acf\n",
        "\n",
        "err2 = lm_hpp2.resid\n",
        "acf(err2)"
      ],
      "metadata": {
        "colab": {
          "base_uri": "https://localhost:8080/"
        },
        "id": "xdO109Jetb0i",
        "outputId": "9c627c71-5f55-426a-9a2a-a27fb2c004d3"
      },
      "execution_count": null,
      "outputs": [
        {
          "output_type": "execute_result",
          "data": {
            "text/plain": [
              "array([ 1.00000000e+00,  6.69938724e-01,  3.86708219e-01,  3.05745440e-01,\n",
              "        1.70655173e-01, -1.23882715e-01, -1.90593871e-01, -1.38509677e-01,\n",
              "       -1.83952360e-01, -1.77911809e-01, -8.81416369e-02, -1.79809755e-02,\n",
              "       -4.05890939e-02, -1.60515410e-02,  5.30581280e-04, -1.05676237e-01])"
            ]
          },
          "metadata": {},
          "execution_count": 40
        }
      ]
    },
    {
      "cell_type": "code",
      "source": [
        "from statsmodels.graphics.tsaplots import plot_acf, plot_pacf\n",
        "\n",
        "fig, ax = plt.subplots(2, 1, figsize=(8, 8))\n",
        "plot_acf(err2, lags = 8, zero = False, ax=ax[0]);\n",
        "plot_pacf(err2, lags = 8, zero = False, ax=ax[1]);\n",
        "plt.show()"
      ],
      "metadata": {
        "colab": {
          "base_uri": "https://localhost:8080/",
          "height": 699
        },
        "id": "5qx5mCBYtfZ1",
        "outputId": "0537c180-aa30-479e-ad7b-34f966b810c8"
      },
      "execution_count": null,
      "outputs": [
        {
          "output_type": "display_data",
          "data": {
            "text/plain": [
              "<Figure size 800x800 with 2 Axes>"
            ],
            "image/png": "[encoded data removed]"
          },
          "metadata": {}
        }
      ]
    },
    {
      "cell_type": "markdown",
      "source": [
        "According to the above plots, we can see that the first lag value extends a lot beyond the confidence interval bend, indicating the presence of a first-order autocorrelation in this model."
      ],
      "metadata": {
        "id": "ABEQLqAOrUf0"
      }
    },
    {
      "cell_type": "code",
      "source": [
        "from statsmodels.stats.stattools import durbin_watson\n",
        "from statsmodels.stats.diagnostic import acorr_breusch_godfrey\n",
        "\n",
        "print('Durbin Watson statistic:', durbin_watson(err2))\n",
        "\n",
        "lmtest2, pval2, fval2, f_pval2 = acorr_breusch_godfrey(lm_hpp2, nlags = 1)\n",
        "print('LM test =', lmtest2)\n",
        "print('p-value =', pval2)"
      ],
      "metadata": {
        "colab": {
          "base_uri": "https://localhost:8080/"
        },
        "id": "vp-T1L2ytitj",
        "outputId": "34d905ec-cfea-413d-8af4-973a494746dd"
      },
      "execution_count": null,
      "outputs": [
        {
          "output_type": "stream",
          "name": "stdout",
          "text": [
            "Durbin Watson statistic: 0.6016217905489245\n",
            "LM test = 19.29694274694769\n",
            "p-value = 1.1188535680702836e-05\n"
          ]
        }
      ]
    },
    {
      "cell_type": "markdown",
      "source": [
        "According to Breusch Godfrey Test, since the p-value is less than 0.001, the test result is highly statistically significant and we reject the null hypothesis, indicating the presence of autocorrelation in this model."
      ],
      "metadata": {
        "id": "QGrniFx7nw0u"
      }
    },
    {
      "cell_type": "markdown",
      "source": [
        "### ​​5.​​Consider ​​running​ ​a ​​time ​​series ​​regression ​​with​ ​many ​​Xs ​​and​ ​trend.​​​​ Interpret ​​that.​​​ ​Check​ ​VIF.​​​​"
      ],
      "metadata": {
        "id": "oqBkXOUojUz6"
      }
    },
    {
      "cell_type": "code",
      "source": [
        "lm_hpp3 = smf.ols('helppoor_pct ~ age + ba_pct + liberal_pct + year', data = by_year_ts).fit()\n",
        "lm_hpp3.summary()"
      ],
      "metadata": {
        "id": "nfxGbsE0jeCB",
        "colab": {
          "base_uri": "https://localhost:8080/",
          "height": 550
        },
        "outputId": "c666212b-4163-4224-fed9-0a81e6cce7e8"
      },
      "execution_count": null,
      "outputs": [
        {
          "output_type": "execute_result",
          "data": {
            "text/plain": [
              "<class 'statsmodels.iolib.summary.Summary'>\n",
              "\"\"\"\n",
              "                            OLS Regression Results                            \n",
              "==============================================================================\n",
              "Dep. Variable:           helppoor_pct   R-squared:                       0.840\n",
              "Model:                            OLS   Adj. R-squared:                  0.821\n",
              "Method:                 Least Squares   F-statistic:                     43.33\n",
              "Date:                Thu, 14 Dec 2023   Prob (F-statistic):           1.09e-12\n",
              "Time:                        19:43:00   Log-Likelihood:                -102.26\n",
              "No. Observations:                  38   AIC:                             214.5\n",
              "Df Residuals:                      33   BIC:                             222.7\n",
              "Df Model:                           4                                         \n",
              "Covariance Type:            nonrobust                                         \n",
              "===============================================================================\n",
              "                  coef    std err          t      P>|t|      [0.025      0.975]\n",
              "-------------------------------------------------------------------------------\n",
              "Intercept     856.5894    607.608      1.410      0.168    -379.597    2092.776\n",
              "age             3.4867      1.319      2.643      0.012       0.803       6.171\n",
              "ba_pct         -1.1051      0.615     -1.796      0.082      -2.357       0.147\n",
              "liberal_pct     0.2457      0.152      1.618      0.115      -0.063       0.555\n",
              "year           -0.4896      0.326     -1.500      0.143      -1.154       0.175\n",
              "==============================================================================\n",
              "Omnibus:                        0.073   Durbin-Watson:                   1.068\n",
              "Prob(Omnibus):                  0.964   Jarque-Bera (JB):                0.284\n",
              "Skew:                          -0.012   Prob(JB):                        0.868\n",
              "Kurtosis:                       2.577   Cond. No.                     1.95e+06\n",
              "==============================================================================\n",
              "\n",
              "Notes:\n",
              "[1] Standard Errors assume that the covariance matrix of the errors is correctly specified.\n",
              "[2] The condition number is large, 1.95e+06. This might indicate that there are\n",
              "strong multicollinearity or other numerical problems.\n",
              "\"\"\""
            ],
            "text/html": [
              "<table class=\"simpletable\">\n",
              "<caption>OLS Regression Results</caption>\n",
              "<tr>\n",
              "  <th>Dep. Variable:</th>      <td>helppoor_pct</td>   <th>  R-squared:         </th> <td>   0.840</td>\n",
              "</tr>\n",
              "<tr>\n",
              "  <th>Model:</th>                   <td>OLS</td>       <th>  Adj. R-squared:    </th> <td>   0.821</td>\n",
              "</tr>\n",
              "<tr>\n",
              "  <th>Method:</th>             <td>Least Squares</td>  <th>  F-statistic:       </th> <td>   43.33</td>\n",
              "</tr>\n",
              "<tr>\n",
              "  <th>Date:</th>             <td>Thu, 14 Dec 2023</td> <th>  Prob (F-statistic):</th> <td>1.09e-12</td>\n",
              "</tr>\n",
              "<tr>\n",
              "  <th>Time:</th>                 <td>19:43:00</td>     <th>  Log-Likelihood:    </th> <td> -102.26</td>\n",
              "</tr>\n",
              "<tr>\n",
              "  <th>No. Observations:</th>      <td>    38</td>      <th>  AIC:               </th> <td>   214.5</td>\n",
              "</tr>\n",
              "<tr>\n",
              "  <th>Df Residuals:</th>          <td>    33</td>      <th>  BIC:               </th> <td>   222.7</td>\n",
              "</tr>\n",
              "<tr>\n",
              "  <th>Df Model:</th>              <td>     4</td>      <th>                     </th>     <td> </td>   \n",
              "</tr>\n",
              "<tr>\n",
              "  <th>Covariance Type:</th>      <td>nonrobust</td>    <th>                     </th>     <td> </td>   \n",
              "</tr>\n",
              "</table>\n",
              "<table class=\"simpletable\">\n",
              "<tr>\n",
              "       <td></td>          <th>coef</th>     <th>std err</th>      <th>t</th>      <th>P>|t|</th>  <th>[0.025</th>    <th>0.975]</th>  \n",
              "</tr>\n",
              "<tr>\n",
              "  <th>Intercept</th>   <td>  856.5894</td> <td>  607.608</td> <td>    1.410</td> <td> 0.168</td> <td> -379.597</td> <td> 2092.776</td>\n",
              "</tr>\n",
              "<tr>\n",
              "  <th>age</th>         <td>    3.4867</td> <td>    1.319</td> <td>    2.643</td> <td> 0.012</td> <td>    0.803</td> <td>    6.171</td>\n",
              "</tr>\n",
              "<tr>\n",
              "  <th>ba_pct</th>      <td>   -1.1051</td> <td>    0.615</td> <td>   -1.796</td> <td> 0.082</td> <td>   -2.357</td> <td>    0.147</td>\n",
              "</tr>\n",
              "<tr>\n",
              "  <th>liberal_pct</th> <td>    0.2457</td> <td>    0.152</td> <td>    1.618</td> <td> 0.115</td> <td>   -0.063</td> <td>    0.555</td>\n",
              "</tr>\n",
              "<tr>\n",
              "  <th>year</th>        <td>   -0.4896</td> <td>    0.326</td> <td>   -1.500</td> <td> 0.143</td> <td>   -1.154</td> <td>    0.175</td>\n",
              "</tr>\n",
              "</table>\n",
              "<table class=\"simpletable\">\n",
              "<tr>\n",
              "  <th>Omnibus:</th>       <td> 0.073</td> <th>  Durbin-Watson:     </th> <td>   1.068</td>\n",
              "</tr>\n",
              "<tr>\n",
              "  <th>Prob(Omnibus):</th> <td> 0.964</td> <th>  Jarque-Bera (JB):  </th> <td>   0.284</td>\n",
              "</tr>\n",
              "<tr>\n",
              "  <th>Skew:</th>          <td>-0.012</td> <th>  Prob(JB):          </th> <td>   0.868</td>\n",
              "</tr>\n",
              "<tr>\n",
              "  <th>Kurtosis:</th>      <td> 2.577</td> <th>  Cond. No.          </th> <td>1.95e+06</td>\n",
              "</tr>\n",
              "</table><br/><br/>Notes:<br/>[1] Standard Errors assume that the covariance matrix of the errors is correctly specified.<br/>[2] The condition number is large, 1.95e+06. This might indicate that there are<br/>strong multicollinearity or other numerical problems."
            ],
            "text/latex": "\\begin{center}\n\\begin{tabular}{lclc}\n\\toprule\n\\textbf{Dep. Variable:}    &  helppoor\\_pct   & \\textbf{  R-squared:         } &     0.840   \\\\\n\\textbf{Model:}            &       OLS        & \\textbf{  Adj. R-squared:    } &     0.821   \\\\\n\\textbf{Method:}           &  Least Squares   & \\textbf{  F-statistic:       } &     43.33   \\\\\n\\textbf{Date:}             & Thu, 14 Dec 2023 & \\textbf{  Prob (F-statistic):} &  1.09e-12   \\\\\n\\textbf{Time:}             &     19:43:00     & \\textbf{  Log-Likelihood:    } &   -102.26   \\\\\n\\textbf{No. Observations:} &          38      & \\textbf{  AIC:               } &     214.5   \\\\\n\\textbf{Df Residuals:}     &          33      & \\textbf{  BIC:               } &     222.7   \\\\\n\\textbf{Df Model:}         &           4      & \\textbf{                     } &             \\\\\n\\textbf{Covariance Type:}  &    nonrobust     & \\textbf{                     } &             \\\\\n\\bottomrule\n\\end{tabular}\n\\begin{tabular}{lcccccc}\n                      & \\textbf{coef} & \\textbf{std err} & \\textbf{t} & \\textbf{P$> |$t$|$} & \\textbf{[0.025} & \\textbf{0.975]}  \\\\\n\\midrule\n\\textbf{Intercept}    &     856.5894  &      607.608     &     1.410  &         0.168        &     -379.597    &     2092.776     \\\\\n\\textbf{age}          &       3.4867  &        1.319     &     2.643  &         0.012        &        0.803    &        6.171     \\\\\n\\textbf{ba\\_pct}      &      -1.1051  &        0.615     &    -1.796  &         0.082        &       -2.357    &        0.147     \\\\\n\\textbf{liberal\\_pct} &       0.2457  &        0.152     &     1.618  &         0.115        &       -0.063    &        0.555     \\\\\n\\textbf{year}         &      -0.4896  &        0.326     &    -1.500  &         0.143        &       -1.154    &        0.175     \\\\\n\\bottomrule\n\\end{tabular}\n\\begin{tabular}{lclc}\n\\textbf{Omnibus:}       &  0.073 & \\textbf{  Durbin-Watson:     } &    1.068  \\\\\n\\textbf{Prob(Omnibus):} &  0.964 & \\textbf{  Jarque-Bera (JB):  } &    0.284  \\\\\n\\textbf{Skew:}          & -0.012 & \\textbf{  Prob(JB):          } &    0.868  \\\\\n\\textbf{Kurtosis:}      &  2.577 & \\textbf{  Cond. No.          } & 1.95e+06  \\\\\n\\bottomrule\n\\end{tabular}\n%\\caption{OLS Regression Results}\n\\end{center}\n\nNotes: \\newline\n [1] Standard Errors assume that the covariance matrix of the errors is correctly specified. \\newline\n [2] The condition number is large, 1.95e+06. This might indicate that there are \\newline\n strong multicollinearity or other numerical problems."
          },
          "metadata": {},
          "execution_count": 56
        }
      ]
    },
    {
      "cell_type": "markdown",
      "source": [
        "According to the above regression, for each higher age, there is on average a 3.48 percent increase in people who think the government should help poors, net of other factors. It is statistically significant with a p-value less than 0.05.\n",
        "\n",
        "Moreover, for each percent increase in people with a BA or higher degree, there is on average a -1.10 percent decrease in people who think the government should help poors, net of other factors. It is not statistically significant with a p-value higher than 0.05.\n",
        "\n",
        "For each percent increase in liberal people, there is on average a 0.24 percent increase in people who think the government should help poors, net of other factors. It is not statistically significant with a p-value higher than 0.05.\n",
        "\n",
        "And with every year, the percent of people who think the government should help poors on average decreases by -0.49, net of other factors. It is not statistically significant with a p-value higher than 0.05.\n",
        "\n",
        "The r-sq is pretty high at 0.84. This means that 84% of the variation in people who think the government should help poors is explained by the independent variables in this model."
      ],
      "metadata": {
        "id": "4VjLDEijoEjM"
      }
    },
    {
      "cell_type": "markdown",
      "source": [
        "**Check for multicollinearity with VIF test**"
      ],
      "metadata": {
        "id": "kQueOHLB3AXx"
      }
    },
    {
      "cell_type": "code",
      "source": [
        "from patsy import dmatrices\n",
        "from statsmodels.stats.outliers_influence import variance_inflation_factor\n",
        "\n",
        "y, X = dmatrices('helppoor_pct ~ age + ba_pct + liberal_pct + year',\n",
        "                 data = by_year_ts, return_type = 'dataframe')\n",
        "\n",
        "vif = pd.DataFrame()\n",
        "vif['VIR Factor'] = [variance_inflation_factor(X.values, i) for i in range(X.shape[1])]\n",
        "vif['features'] = X.columns\n",
        "vif.iloc[1:]"
      ],
      "metadata": {
        "id": "PskOI_Gujj-2",
        "colab": {
          "base_uri": "https://localhost:8080/",
          "height": 175
        },
        "outputId": "6eec86f3-647f-4307-ae03-d6ec70d0c3df"
      },
      "execution_count": null,
      "outputs": [
        {
          "output_type": "execute_result",
          "data": {
            "text/plain": [
              "   VIR Factor     features\n",
              "1    5.763103          age\n",
              "2   24.729862       ba_pct\n",
              "3    1.332163  liberal_pct\n",
              "4   33.214882         year"
            ],
            "text/html": [
              "\n",
              "  <div id=\"df-25ff4d21-5c28-4a4b-a8c5-8e3edf5f6b1d\" class=\"colab-df-container\">\n",
              "    <div>\n",
              "<style scoped>\n",
              "    .dataframe tbody tr th:only-of-type {\n",
              "        vertical-align: middle;\n",
              "    }\n",
              "\n",
              "    .dataframe tbody tr th {\n",
              "        vertical-align: top;\n",
              "    }\n",
              "\n",
              "    .dataframe thead th {\n",
              "        text-align: right;\n",
              "    }\n",
              "</style>\n",
              "<table border=\"1\" class=\"dataframe\">\n",
              "  <thead>\n",
              "    <tr style=\"text-align: right;\">\n",
              "      <th></th>\n",
              "      <th>VIR Factor</th>\n",
              "      <th>features</th>\n",
              "    </tr>\n",
              "  </thead>\n",
              "  <tbody>\n",
              "    <tr>\n",
              "      <th>1</th>\n",
              "      <td>5.763103</td>\n",
              "      <td>age</td>\n",
              "    </tr>\n",
              "    <tr>\n",
              "      <th>2</th>\n",
              "      <td>24.729862</td>\n",
              "      <td>ba_pct</td>\n",
              "    </tr>\n",
              "    <tr>\n",
              "      <th>3</th>\n",
              "      <td>1.332163</td>\n",
              "      <td>liberal_pct</td>\n",
              "    </tr>\n",
              "    <tr>\n",
              "      <th>4</th>\n",
              "      <td>33.214882</td>\n",
              "      <td>year</td>\n",
              "    </tr>\n",
              "  </tbody>\n",
              "</table>\n",
              "</div>\n",
              "    <div class=\"colab-df-buttons\">\n",
              "\n",
              "  <div class=\"colab-df-container\">\n",
              "    <button class=\"colab-df-convert\" onclick=\"convertToInteractive('df-25ff4d21-5c28-4a4b-a8c5-8e3edf5f6b1d')\"\n",
              "            title=\"Convert this dataframe to an interactive table.\"\n",
              "            style=\"display:none;\">\n",
              "\n",
              "  <svg xmlns=\"http://www.w3.org/2000/svg\" height=\"24px\" viewBox=\"0 -960 960 960\">\n",
              "    <path d=\"M120-120v-720h720v720H120Zm60-500h600v-160H180v160Zm220 220h160v-160H400v160Zm0 220h160v-160H400v160ZM180-400h160v-160H180v160Zm440 0h160v-160H620v160ZM180-180h160v-160H180v160Zm440 0h160v-160H620v160Z\"/>\n",
              "  </svg>\n",
              "    </button>\n",
              "\n",
              "  <style>\n",
              "    .colab-df-container {\n",
              "      display:flex;\n",
              "      gap: 12px;\n",
              "    }\n",
              "\n",
              "    .colab-df-convert {\n",
              "      background-color: #E8F0FE;\n",
              "      border: none;\n",
              "      border-radius: 50%;\n",
              "      cursor: pointer;\n",
              "      display: none;\n",
              "      fill: #1967D2;\n",
              "      height: 32px;\n",
              "      padding: 0 0 0 0;\n",
              "      width: 32px;\n",
              "    }\n",
              "\n",
              "    .colab-df-convert:hover {\n",
              "      background-color: #E2EBFA;\n",
              "      box-shadow: 0px 1px 2px rgba(60, 64, 67, 0.3), 0px 1px 3px 1px rgba(60, 64, 67, 0.15);\n",
              "      fill: #174EA6;\n",
              "    }\n",
              "\n",
              "    .colab-df-buttons div {\n",
              "      margin-bottom: 4px;\n",
              "    }\n",
              "\n",
              "    [theme=dark] .colab-df-convert {\n",
              "      background-color: #3B4455;\n",
              "      fill: #D2E3FC;\n",
              "    }\n",
              "\n",
              "    [theme=dark] .colab-df-convert:hover {\n",
              "      background-color: #434B5C;\n",
              "      box-shadow: 0px 1px 3px 1px rgba(0, 0, 0, 0.15);\n",
              "      filter: drop-shadow(0px 1px 2px rgba(0, 0, 0, 0.3));\n",
              "      fill: #FFFFFF;\n",
              "    }\n",
              "  </style>\n",
              "\n",
              "    <script>\n",
              "      const buttonEl =\n",
              "        document.querySelector('#df-25ff4d21-5c28-4a4b-a8c5-8e3edf5f6b1d button.colab-df-convert');\n",
              "      buttonEl.style.display =\n",
              "        google.colab.kernel.accessAllowed ? 'block' : 'none';\n",
              "\n",
              "      async function convertToInteractive(key) {\n",
              "        const element = document.querySelector('#df-25ff4d21-5c28-4a4b-a8c5-8e3edf5f6b1d');\n",
              "        const dataTable =\n",
              "          await google.colab.kernel.invokeFunction('convertToInteractive',\n",
              "                                                    [key], {});\n",
              "        if (!dataTable) return;\n",
              "\n",
              "        const docLinkHtml = 'Like what you see? Visit the ' +\n",
              "          '<a target=\"_blank\" href=https://colab.research.google.com/notebooks/data_table.ipynb>data table notebook</a>'\n",
              "          + ' to learn more about interactive tables.';\n",
              "        element.innerHTML = '';\n",
              "        dataTable['output_type'] = 'display_data';\n",
              "        await google.colab.output.renderOutput(dataTable, element);\n",
              "        const docLink = document.createElement('div');\n",
              "        docLink.innerHTML = docLinkHtml;\n",
              "        element.appendChild(docLink);\n",
              "      }\n",
              "    </script>\n",
              "  </div>\n",
              "\n",
              "\n",
              "<div id=\"df-e9557872-16c2-4b43-9a1b-de3687e64207\">\n",
              "  <button class=\"colab-df-quickchart\" onclick=\"quickchart('df-e9557872-16c2-4b43-9a1b-de3687e64207')\"\n",
              "            title=\"Suggest charts\"\n",
              "            style=\"display:none;\">\n",
              "\n",
              "<svg xmlns=\"http://www.w3.org/2000/svg\" height=\"24px\"viewBox=\"0 0 24 24\"\n",
              "     width=\"24px\">\n",
              "    <g>\n",
              "        <path d=\"M19 3H5c-1.1 0-2 .9-2 2v14c0 1.1.9 2 2 2h14c1.1 0 2-.9 2-2V5c0-1.1-.9-2-2-2zM9 17H7v-7h2v7zm4 0h-2V7h2v10zm4 0h-2v-4h2v4z\"/>\n",
              "    </g>\n",
              "</svg>\n",
              "  </button>\n",
              "\n",
              "<style>\n",
              "  .colab-df-quickchart {\n",
              "      --bg-color: #E8F0FE;\n",
              "      --fill-color: #1967D2;\n",
              "      --hover-bg-color: #E2EBFA;\n",
              "      --hover-fill-color: #174EA6;\n",
              "      --disabled-fill-color: #AAA;\n",
              "      --disabled-bg-color: #DDD;\n",
              "  }\n",
              "\n",
              "  [theme=dark] .colab-df-quickchart {\n",
              "      --bg-color: #3B4455;\n",
              "      --fill-color: #D2E3FC;\n",
              "      --hover-bg-color: #434B5C;\n",
              "      --hover-fill-color: #FFFFFF;\n",
              "      --disabled-bg-color: #3B4455;\n",
              "      --disabled-fill-color: #666;\n",
              "  }\n",
              "\n",
              "  .colab-df-quickchart {\n",
              "    background-color: var(--bg-color);\n",
              "    border: none;\n",
              "    border-radius: 50%;\n",
              "    cursor: pointer;\n",
              "    display: none;\n",
              "    fill: var(--fill-color);\n",
              "    height: 32px;\n",
              "    padding: 0;\n",
              "    width: 32px;\n",
              "  }\n",
              "\n",
              "  .colab-df-quickchart:hover {\n",
              "    background-color: var(--hover-bg-color);\n",
              "    box-shadow: 0 1px 2px rgba(60, 64, 67, 0.3), 0 1px 3px 1px rgba(60, 64, 67, 0.15);\n",
              "    fill: var(--button-hover-fill-color);\n",
              "  }\n",
              "\n",
              "  .colab-df-quickchart-complete:disabled,\n",
              "  .colab-df-quickchart-complete:disabled:hover {\n",
              "    background-color: var(--disabled-bg-color);\n",
              "    fill: var(--disabled-fill-color);\n",
              "    box-shadow: none;\n",
              "  }\n",
              "\n",
              "  .colab-df-spinner {\n",
              "    border: 2px solid var(--fill-color);\n",
              "    border-color: transparent;\n",
              "    border-bottom-color: var(--fill-color);\n",
              "    animation:\n",
              "      spin 1s steps(1) infinite;\n",
              "  }\n",
              "\n",
              "  @keyframes spin {\n",
              "    0% {\n",
              "      border-color: transparent;\n",
              "      border-bottom-color: var(--fill-color);\n",
              "      border-left-color: var(--fill-color);\n",
              "    }\n",
              "    20% {\n",
              "      border-color: transparent;\n",
              "      border-left-color: var(--fill-color);\n",
              "      border-top-color: var(--fill-color);\n",
              "    }\n",
              "    30% {\n",
              "      border-color: transparent;\n",
              "      border-left-color: var(--fill-color);\n",
              "      border-top-color: var(--fill-color);\n",
              "      border-right-color: var(--fill-color);\n",
              "    }\n",
              "    40% {\n",
              "      border-color: transparent;\n",
              "      border-right-color: var(--fill-color);\n",
              "      border-top-color: var(--fill-color);\n",
              "    }\n",
              "    60% {\n",
              "      border-color: transparent;\n",
              "      border-right-color: var(--fill-color);\n",
              "    }\n",
              "    80% {\n",
              "      border-color: transparent;\n",
              "      border-right-color: var(--fill-color);\n",
              "      border-bottom-color: var(--fill-color);\n",
              "    }\n",
              "    90% {\n",
              "      border-color: transparent;\n",
              "      border-bottom-color: var(--fill-color);\n",
              "    }\n",
              "  }\n",
              "</style>\n",
              "\n",
              "  <script>\n",
              "    async function quickchart(key) {\n",
              "      const quickchartButtonEl =\n",
              "        document.querySelector('#' + key + ' button');\n",
              "      quickchartButtonEl.disabled = true;  // To prevent multiple clicks.\n",
              "      quickchartButtonEl.classList.add('colab-df-spinner');\n",
              "      try {\n",
              "        const charts = await google.colab.kernel.invokeFunction(\n",
              "            'suggestCharts', [key], {});\n",
              "      } catch (error) {\n",
              "        console.error('Error during call to suggestCharts:', error);\n",
              "      }\n",
              "      quickchartButtonEl.classList.remove('colab-df-spinner');\n",
              "      quickchartButtonEl.classList.add('colab-df-quickchart-complete');\n",
              "    }\n",
              "    (() => {\n",
              "      let quickchartButtonEl =\n",
              "        document.querySelector('#df-e9557872-16c2-4b43-9a1b-de3687e64207 button');\n",
              "      quickchartButtonEl.style.display =\n",
              "        google.colab.kernel.accessAllowed ? 'block' : 'none';\n",
              "    })();\n",
              "  </script>\n",
              "</div>\n",
              "    </div>\n",
              "  </div>\n"
            ]
          },
          "metadata": {},
          "execution_count": 44
        }
      ]
    },
    {
      "cell_type": "markdown",
      "source": [
        "According to the above results, we can conclude that the problem of multicollinearity exists among the variables. The VIR Factor for the percent of people with a BA or higher degree is 24.73, and the VIR Factor for year is 33.21. These high values of the VIR Factor indicate multicollinearity in variables ba_pct and year. In this scenario, the variables inflate each other's effects. In comparison, age and the percent of liberal people have a low value of the VIR Factor."
      ],
      "metadata": {
        "id": "UDvsZK6boXVF"
      }
    },
    {
      "cell_type": "markdown",
      "source": [
        "### ​6.​​Run​ ​a​ ​first ​​differenced​ ​time​​ series ​​regression.​​​ ​Interpret​ ​that."
      ],
      "metadata": {
        "id": "xmVedhkDjeH4"
      }
    },
    {
      "cell_type": "code",
      "source": [
        "by_yearFD = pd.DataFrame()\n",
        "\n",
        "by_yearFD = by_year_ts[['helppoor_pct', 'age', 'ba_pct', 'liberal_pct']]\n",
        "by_yearFD = by_yearFD.diff()\n",
        "\n",
        "by_yearFD['year'] = by_year_ts['year']"
      ],
      "metadata": {
        "id": "7LWCx_YGt7eg"
      },
      "execution_count": null,
      "outputs": []
    },
    {
      "cell_type": "code",
      "source": [
        "lm_hpp4 = smf.ols('helppoor_pct ~ ba_pct + year', data = by_yearFD).fit()\n",
        "lm_hpp4.summary()"
      ],
      "metadata": {
        "colab": {
          "base_uri": "https://localhost:8080/",
          "height": 508
        },
        "id": "QPmASBK1uCmv",
        "outputId": "a81bc906-ec62-4df4-8972-37cec5416672"
      },
      "execution_count": null,
      "outputs": [
        {
          "output_type": "execute_result",
          "data": {
            "text/plain": [
              "<class 'statsmodels.iolib.summary.Summary'>\n",
              "\"\"\"\n",
              "                            OLS Regression Results                            \n",
              "==============================================================================\n",
              "Dep. Variable:           helppoor_pct   R-squared:                       0.045\n",
              "Model:                            OLS   Adj. R-squared:                 -0.011\n",
              "Method:                 Least Squares   F-statistic:                    0.8052\n",
              "Date:                Thu, 14 Dec 2023   Prob (F-statistic):              0.455\n",
              "Time:                        19:34:14   Log-Likelihood:                -91.310\n",
              "No. Observations:                  37   AIC:                             188.6\n",
              "Df Residuals:                      34   BIC:                             193.5\n",
              "Df Model:                           2                                         \n",
              "Covariance Type:            nonrobust                                         \n",
              "==============================================================================\n",
              "                 coef    std err          t      P>|t|      [0.025      0.975]\n",
              "------------------------------------------------------------------------------\n",
              "Intercept   -105.1072     91.707     -1.146      0.260    -291.479      81.264\n",
              "ba_pct        -0.2115      0.453     -0.467      0.644      -1.133       0.710\n",
              "year           0.0525      0.046      1.141      0.262      -0.041       0.146\n",
              "==============================================================================\n",
              "Omnibus:                       39.347   Durbin-Watson:                   2.127\n",
              "Prob(Omnibus):                  0.000   Jarque-Bera (JB):              153.568\n",
              "Skew:                          -2.351   Prob(JB):                     4.50e-34\n",
              "Kurtosis:                      11.804   Cond. No.                     3.74e+05\n",
              "==============================================================================\n",
              "\n",
              "Notes:\n",
              "[1] Standard Errors assume that the covariance matrix of the errors is correctly specified.\n",
              "[2] The condition number is large, 3.74e+05. This might indicate that there are\n",
              "strong multicollinearity or other numerical problems.\n",
              "\"\"\""
            ],
            "text/html": [
              "<table class=\"simpletable\">\n",
              "<caption>OLS Regression Results</caption>\n",
              "<tr>\n",
              "  <th>Dep. Variable:</th>      <td>helppoor_pct</td>   <th>  R-squared:         </th> <td>   0.045</td>\n",
              "</tr>\n",
              "<tr>\n",
              "  <th>Model:</th>                   <td>OLS</td>       <th>  Adj. R-squared:    </th> <td>  -0.011</td>\n",
              "</tr>\n",
              "<tr>\n",
              "  <th>Method:</th>             <td>Least Squares</td>  <th>  F-statistic:       </th> <td>  0.8052</td>\n",
              "</tr>\n",
              "<tr>\n",
              "  <th>Date:</th>             <td>Thu, 14 Dec 2023</td> <th>  Prob (F-statistic):</th>  <td> 0.455</td> \n",
              "</tr>\n",
              "<tr>\n",
              "  <th>Time:</th>                 <td>19:34:14</td>     <th>  Log-Likelihood:    </th> <td> -91.310</td>\n",
              "</tr>\n",
              "<tr>\n",
              "  <th>No. Observations:</th>      <td>    37</td>      <th>  AIC:               </th> <td>   188.6</td>\n",
              "</tr>\n",
              "<tr>\n",
              "  <th>Df Residuals:</th>          <td>    34</td>      <th>  BIC:               </th> <td>   193.5</td>\n",
              "</tr>\n",
              "<tr>\n",
              "  <th>Df Model:</th>              <td>     2</td>      <th>                     </th>     <td> </td>   \n",
              "</tr>\n",
              "<tr>\n",
              "  <th>Covariance Type:</th>      <td>nonrobust</td>    <th>                     </th>     <td> </td>   \n",
              "</tr>\n",
              "</table>\n",
              "<table class=\"simpletable\">\n",
              "<tr>\n",
              "      <td></td>         <th>coef</th>     <th>std err</th>      <th>t</th>      <th>P>|t|</th>  <th>[0.025</th>    <th>0.975]</th>  \n",
              "</tr>\n",
              "<tr>\n",
              "  <th>Intercept</th> <td> -105.1072</td> <td>   91.707</td> <td>   -1.146</td> <td> 0.260</td> <td> -291.479</td> <td>   81.264</td>\n",
              "</tr>\n",
              "<tr>\n",
              "  <th>ba_pct</th>    <td>   -0.2115</td> <td>    0.453</td> <td>   -0.467</td> <td> 0.644</td> <td>   -1.133</td> <td>    0.710</td>\n",
              "</tr>\n",
              "<tr>\n",
              "  <th>year</th>      <td>    0.0525</td> <td>    0.046</td> <td>    1.141</td> <td> 0.262</td> <td>   -0.041</td> <td>    0.146</td>\n",
              "</tr>\n",
              "</table>\n",
              "<table class=\"simpletable\">\n",
              "<tr>\n",
              "  <th>Omnibus:</th>       <td>39.347</td> <th>  Durbin-Watson:     </th> <td>   2.127</td>\n",
              "</tr>\n",
              "<tr>\n",
              "  <th>Prob(Omnibus):</th> <td> 0.000</td> <th>  Jarque-Bera (JB):  </th> <td> 153.568</td>\n",
              "</tr>\n",
              "<tr>\n",
              "  <th>Skew:</th>          <td>-2.351</td> <th>  Prob(JB):          </th> <td>4.50e-34</td>\n",
              "</tr>\n",
              "<tr>\n",
              "  <th>Kurtosis:</th>      <td>11.804</td> <th>  Cond. No.          </th> <td>3.74e+05</td>\n",
              "</tr>\n",
              "</table><br/><br/>Notes:<br/>[1] Standard Errors assume that the covariance matrix of the errors is correctly specified.<br/>[2] The condition number is large, 3.74e+05. This might indicate that there are<br/>strong multicollinearity or other numerical problems."
            ],
            "text/latex": "\\begin{center}\n\\begin{tabular}{lclc}\n\\toprule\n\\textbf{Dep. Variable:}    &  helppoor\\_pct   & \\textbf{  R-squared:         } &     0.045   \\\\\n\\textbf{Model:}            &       OLS        & \\textbf{  Adj. R-squared:    } &    -0.011   \\\\\n\\textbf{Method:}           &  Least Squares   & \\textbf{  F-statistic:       } &    0.8052   \\\\\n\\textbf{Date:}             & Thu, 14 Dec 2023 & \\textbf{  Prob (F-statistic):} &    0.455    \\\\\n\\textbf{Time:}             &     19:34:14     & \\textbf{  Log-Likelihood:    } &   -91.310   \\\\\n\\textbf{No. Observations:} &          37      & \\textbf{  AIC:               } &     188.6   \\\\\n\\textbf{Df Residuals:}     &          34      & \\textbf{  BIC:               } &     193.5   \\\\\n\\textbf{Df Model:}         &           2      & \\textbf{                     } &             \\\\\n\\textbf{Covariance Type:}  &    nonrobust     & \\textbf{                     } &             \\\\\n\\bottomrule\n\\end{tabular}\n\\begin{tabular}{lcccccc}\n                   & \\textbf{coef} & \\textbf{std err} & \\textbf{t} & \\textbf{P$> |$t$|$} & \\textbf{[0.025} & \\textbf{0.975]}  \\\\\n\\midrule\n\\textbf{Intercept} &    -105.1072  &       91.707     &    -1.146  &         0.260        &     -291.479    &       81.264     \\\\\n\\textbf{ba\\_pct}   &      -0.2115  &        0.453     &    -0.467  &         0.644        &       -1.133    &        0.710     \\\\\n\\textbf{year}      &       0.0525  &        0.046     &     1.141  &         0.262        &       -0.041    &        0.146     \\\\\n\\bottomrule\n\\end{tabular}\n\\begin{tabular}{lclc}\n\\textbf{Omnibus:}       & 39.347 & \\textbf{  Durbin-Watson:     } &    2.127  \\\\\n\\textbf{Prob(Omnibus):} &  0.000 & \\textbf{  Jarque-Bera (JB):  } &  153.568  \\\\\n\\textbf{Skew:}          & -2.351 & \\textbf{  Prob(JB):          } & 4.50e-34  \\\\\n\\textbf{Kurtosis:}      & 11.804 & \\textbf{  Cond. No.          } & 3.74e+05  \\\\\n\\bottomrule\n\\end{tabular}\n%\\caption{OLS Regression Results}\n\\end{center}\n\nNotes: \\newline\n [1] Standard Errors assume that the covariance matrix of the errors is correctly specified. \\newline\n [2] The condition number is large, 3.74e+05. This might indicate that there are \\newline\n strong multicollinearity or other numerical problems."
          },
          "metadata": {},
          "execution_count": 46
        }
      ]
    },
    {
      "cell_type": "markdown",
      "source": [
        "According to the above regression, for a 1 point increase in the difference of the percent of people with a BA or higher degree, on average there is a -0.21 point decrease in the difference of the percent of people who think the government should help poors. It is not statistically significant with a p-value higher than 0.05.\n",
        "\n",
        "Moreover, with every year, there is on average a 0.05 point increase in the difference of the percent of people who think the government should help poors. It is not statistically significant with a p-value higher than 0.05.\n",
        "\n",
        " The r-sq is very low and has dropped down to 0.04 from 0.84. This means that 4% of the variation in people who think the government should help poors is explained by the independent variables in this model. This reduction is because we took first differences and eliminated problems like bias."
      ],
      "metadata": {
        "id": "fsrBM7_Fo8R9"
      }
    },
    {
      "cell_type": "markdown",
      "source": [
        "### 7.​​Check ​​your​​ variables​ ​for​ ​unit ​​roots.​​​ ​Do ​​some ​​tests.​​​ ​Interpret ​​them.​​​​"
      ],
      "metadata": {
        "id": "EcEprP86jkEu"
      }
    },
    {
      "cell_type": "code",
      "source": [
        "!pip install arch"
      ],
      "metadata": {
        "colab": {
          "base_uri": "https://localhost:8080/"
        },
        "id": "4Iqkvbv_0YZu",
        "outputId": "3d70f09a-9b62-4cae-8ca1-be20bdc03633"
      },
      "execution_count": null,
      "outputs": [
        {
          "output_type": "stream",
          "name": "stdout",
          "text": [
            "Requirement already satisfied: arch in /usr/local/lib/python3.10/dist-packages (6.2.0)\n",
            "Requirement already satisfied: numpy>=1.19 in /usr/local/lib/python3.10/dist-packages (from arch) (1.23.5)\n",
            "Requirement already satisfied: scipy>=1.5 in /usr/local/lib/python3.10/dist-packages (from arch) (1.11.4)\n",
            "Requirement already satisfied: pandas>=1.1 in /usr/local/lib/python3.10/dist-packages (from arch) (1.5.3)\n",
            "Requirement already satisfied: statsmodels>=0.12 in /usr/local/lib/python3.10/dist-packages (from arch) (0.14.0)\n",
            "Requirement already satisfied: python-dateutil>=2.8.1 in /usr/local/lib/python3.10/dist-packages (from pandas>=1.1->arch) (2.8.2)\n",
            "Requirement already satisfied: pytz>=2020.1 in /usr/local/lib/python3.10/dist-packages (from pandas>=1.1->arch) (2023.3.post1)\n",
            "Requirement already satisfied: patsy>=0.5.2 in /usr/local/lib/python3.10/dist-packages (from statsmodels>=0.12->arch) (0.5.4)\n",
            "Requirement already satisfied: packaging>=21.3 in /usr/local/lib/python3.10/dist-packages (from statsmodels>=0.12->arch) (23.2)\n",
            "Requirement already satisfied: six in /usr/local/lib/python3.10/dist-packages (from patsy>=0.5.2->statsmodels>=0.12->arch) (1.16.0)\n"
          ]
        }
      ]
    },
    {
      "cell_type": "code",
      "source": [
        "from arch.unitroot import ADF, PhillipsPerron, DFGLS\n",
        "\n",
        "ADF(by_year_ts['helppoor_pct'], lags = int(4*(len(by_year_ts)/100)**(2/9)), trend = 'c')"
      ],
      "metadata": {
        "id": "hi5rK0WsjqSj",
        "colab": {
          "base_uri": "https://localhost:8080/",
          "height": 222
        },
        "outputId": "6718d308-94ce-4ea3-bde0-30a74992935f"
      },
      "execution_count": null,
      "outputs": [
        {
          "output_type": "execute_result",
          "data": {
            "text/plain": [
              "<class 'arch.unitroot.unitroot.ADF'>\n",
              "\"\"\"\n",
              "   Augmented Dickey-Fuller Results   \n",
              "=====================================\n",
              "Test Statistic                 -1.828\n",
              "P-value                         0.366\n",
              "Lags                                3\n",
              "-------------------------------------\n",
              "\n",
              "Trend: Constant\n",
              "Critical Values: -3.64 (1%), -2.95 (5%), -2.61 (10%)\n",
              "Null Hypothesis: The process contains a unit root.\n",
              "Alternative Hypothesis: The process is weakly stationary.\n",
              "\"\"\""
            ],
            "text/html": [
              "<table class=\"simpletable\">\n",
              "<caption>Augmented Dickey-Fuller Results</caption>\n",
              "<tr>\n",
              "  <td>Test Statistic</td>    <td>-1.828</td>\n",
              "</tr>\n",
              "<tr>\n",
              "  <td>P-value</td>            <td>0.366</td>\n",
              "</tr>\n",
              "<tr>\n",
              "  <td>Lags</td>                   <td>3</td>\n",
              "</tr>\n",
              "</table><br/><br/>Trend: Constant<br/>Critical Values: -3.64 (1%), -2.95 (5%), -2.61 (10%)<br/>Null Hypothesis: The process contains a unit root.<br/>Alternative Hypothesis: The process is weakly stationary."
            ]
          },
          "metadata": {},
          "execution_count": 48
        }
      ]
    },
    {
      "cell_type": "markdown",
      "source": [
        "According to the Augmented Dickey-Fuller test, we can see that the p-value is 0.366, which is greater than 0.05 and means that there are unit roots present in the helppoor_pct time series process."
      ],
      "metadata": {
        "id": "qzkbP2UiwKyY"
      }
    },
    {
      "cell_type": "code",
      "source": [
        "DFGLS(by_year_ts['helppoor_pct'], lags = int(4*(len(by_year_ts)/100)**(2/9)), trend = 'c')"
      ],
      "metadata": {
        "colab": {
          "base_uri": "https://localhost:8080/",
          "height": 222
        },
        "id": "PrxVeuMEuIfX",
        "outputId": "c7a28256-7b4c-477b-dafe-d643a518b5da"
      },
      "execution_count": null,
      "outputs": [
        {
          "output_type": "execute_result",
          "data": {
            "text/plain": [
              "<class 'arch.unitroot.unitroot.DFGLS'>\n",
              "\"\"\"\n",
              "      Dickey-Fuller GLS Results      \n",
              "=====================================\n",
              "Test Statistic                 -0.624\n",
              "P-value                         0.462\n",
              "Lags                                3\n",
              "-------------------------------------\n",
              "\n",
              "Trend: Constant\n",
              "Critical Values: -3.06 (1%), -2.41 (5%), -2.10 (10%)\n",
              "Null Hypothesis: The process contains a unit root.\n",
              "Alternative Hypothesis: The process is weakly stationary.\n",
              "\"\"\""
            ],
            "text/html": [
              "<table class=\"simpletable\">\n",
              "<caption>Dickey-Fuller GLS Results</caption>\n",
              "<tr>\n",
              "  <td>Test Statistic</td>    <td>-0.624</td>\n",
              "</tr>\n",
              "<tr>\n",
              "  <td>P-value</td>            <td>0.462</td>\n",
              "</tr>\n",
              "<tr>\n",
              "  <td>Lags</td>                   <td>3</td>\n",
              "</tr>\n",
              "</table><br/><br/>Trend: Constant<br/>Critical Values: -3.06 (1%), -2.41 (5%), -2.10 (10%)<br/>Null Hypothesis: The process contains a unit root.<br/>Alternative Hypothesis: The process is weakly stationary."
            ]
          },
          "metadata": {},
          "execution_count": 49
        }
      ]
    },
    {
      "cell_type": "markdown",
      "source": [
        "According to the Dickey-Fuller Generalised Least Squares, we can see that the p-value is 0.462, which is greater than 0.05 and means that there are unit roots present in the helppoor_pct time series process."
      ],
      "metadata": {
        "id": "g2mLC6IHwN70"
      }
    },
    {
      "cell_type": "code",
      "source": [
        "PhillipsPerron(by_year_ts['helppoor_pct'], lags = 3)"
      ],
      "metadata": {
        "colab": {
          "base_uri": "https://localhost:8080/",
          "height": 222
        },
        "id": "mRX9ylAauLGU",
        "outputId": "7fac1c98-af91-43dc-c384-25da1b2b7474"
      },
      "execution_count": null,
      "outputs": [
        {
          "output_type": "execute_result",
          "data": {
            "text/plain": [
              "<class 'arch.unitroot.unitroot.PhillipsPerron'>\n",
              "\"\"\"\n",
              "     Phillips-Perron Test (Z-tau)    \n",
              "=====================================\n",
              "Test Statistic                 -1.827\n",
              "P-value                         0.367\n",
              "Lags                                3\n",
              "-------------------------------------\n",
              "\n",
              "Trend: Constant\n",
              "Critical Values: -3.62 (1%), -2.94 (5%), -2.61 (10%)\n",
              "Null Hypothesis: The process contains a unit root.\n",
              "Alternative Hypothesis: The process is weakly stationary.\n",
              "\"\"\""
            ],
            "text/html": [
              "<table class=\"simpletable\">\n",
              "<caption>Phillips-Perron Test (Z-tau)</caption>\n",
              "<tr>\n",
              "  <td>Test Statistic</td>    <td>-1.827</td>\n",
              "</tr>\n",
              "<tr>\n",
              "  <td>P-value</td>            <td>0.367</td>\n",
              "</tr>\n",
              "<tr>\n",
              "  <td>Lags</td>                   <td>3</td>\n",
              "</tr>\n",
              "</table><br/><br/>Trend: Constant<br/>Critical Values: -3.62 (1%), -2.94 (5%), -2.61 (10%)<br/>Null Hypothesis: The process contains a unit root.<br/>Alternative Hypothesis: The process is weakly stationary."
            ]
          },
          "metadata": {},
          "execution_count": 50
        }
      ]
    },
    {
      "cell_type": "markdown",
      "source": [
        "According to the Phillips-Perron test, we can see that the p-value is 0.367, which is greater than 0.05 and means that there are unit roots present in the helppoor_pct time series process."
      ],
      "metadata": {
        "id": "h_kG4LsmwO6q"
      }
    },
    {
      "cell_type": "markdown",
      "source": [
        "### 8.​​Perform​ ​an​ ​Automatic​ ​ARIMA ​​on​ ​the ​​residuals​​ from​ ​one ​​of ​​your ​​earlier​ ​models.​​​ ​Tell ​​me​ ​what ​​it​ ​says."
      ],
      "metadata": {
        "id": "xtYZxvtvjqci"
      }
    },
    {
      "cell_type": "code",
      "source": [
        "!pip install pmdarima"
      ],
      "metadata": {
        "colab": {
          "base_uri": "https://localhost:8080/"
        },
        "id": "pKoPXck50kCy",
        "outputId": "d5d49b98-9775-4faf-9dc3-5615c163b038"
      },
      "execution_count": null,
      "outputs": [
        {
          "output_type": "stream",
          "name": "stdout",
          "text": [
            "Collecting pmdarima\n",
            "  Downloading pmdarima-2.0.4-cp310-cp310-manylinux_2_17_x86_64.manylinux2014_x86_64.manylinux_2_28_x86_64.whl (2.1 MB)\n",
            "\u001b[2K     \u001b[90m━━━━━━━━━━━━━━━━━━━━━━━━━━━━━━━━━━━━━━━━\u001b[0m \u001b[32m2.1/2.1 MB\u001b[0m \u001b[31m9.7 MB/s\u001b[0m eta \u001b[36m0:00:00\u001b[0m\n",
            "\u001b[?25hRequirement already satisfied: joblib>=0.11 in /usr/local/lib/python3.10/dist-packages (from pmdarima) (1.3.2)\n",
            "Requirement already satisfied: Cython!=0.29.18,!=0.29.31,>=0.29 in /usr/local/lib/python3.10/dist-packages (from pmdarima) (3.0.6)\n",
            "Requirement already satisfied: numpy>=1.21.2 in /usr/local/lib/python3.10/dist-packages (from pmdarima) (1.23.5)\n",
            "Requirement already satisfied: pandas>=0.19 in /usr/local/lib/python3.10/dist-packages (from pmdarima) (1.5.3)\n",
            "Requirement already satisfied: scikit-learn>=0.22 in /usr/local/lib/python3.10/dist-packages (from pmdarima) (1.2.2)\n",
            "Requirement already satisfied: scipy>=1.3.2 in /usr/local/lib/python3.10/dist-packages (from pmdarima) (1.11.4)\n",
            "Requirement already satisfied: statsmodels>=0.13.2 in /usr/local/lib/python3.10/dist-packages (from pmdarima) (0.14.0)\n",
            "Requirement already satisfied: urllib3 in /usr/local/lib/python3.10/dist-packages (from pmdarima) (2.0.7)\n",
            "Requirement already satisfied: setuptools!=50.0.0,>=38.6.0 in /usr/local/lib/python3.10/dist-packages (from pmdarima) (67.7.2)\n",
            "Requirement already satisfied: packaging>=17.1 in /usr/local/lib/python3.10/dist-packages (from pmdarima) (23.2)\n",
            "Requirement already satisfied: python-dateutil>=2.8.1 in /usr/local/lib/python3.10/dist-packages (from pandas>=0.19->pmdarima) (2.8.2)\n",
            "Requirement already satisfied: pytz>=2020.1 in /usr/local/lib/python3.10/dist-packages (from pandas>=0.19->pmdarima) (2023.3.post1)\n",
            "Requirement already satisfied: threadpoolctl>=2.0.0 in /usr/local/lib/python3.10/dist-packages (from scikit-learn>=0.22->pmdarima) (3.2.0)\n",
            "Requirement already satisfied: patsy>=0.5.2 in /usr/local/lib/python3.10/dist-packages (from statsmodels>=0.13.2->pmdarima) (0.5.4)\n",
            "Requirement already satisfied: six in /usr/local/lib/python3.10/dist-packages (from patsy>=0.5.2->statsmodels>=0.13.2->pmdarima) (1.16.0)\n",
            "Installing collected packages: pmdarima\n",
            "Successfully installed pmdarima-2.0.4\n"
          ]
        }
      ]
    },
    {
      "cell_type": "code",
      "source": [
        "from pmdarima.arima import auto_arima\n",
        "import warnings\n",
        "\n",
        "warnings.filterwarnings(\"ignore\")\n",
        "auto_arima(err2, trace = True, test='kpss', information_criterion='bic')"
      ],
      "metadata": {
        "id": "Aiyq4_SNkBJr",
        "colab": {
          "base_uri": "https://localhost:8080/",
          "height": 378
        },
        "outputId": "1cba6e3b-590f-4a67-967c-95e189916d6d"
      },
      "execution_count": null,
      "outputs": [
        {
          "output_type": "stream",
          "name": "stdout",
          "text": [
            "Performing stepwise search to minimize bic\n",
            " ARIMA(2,0,2)(0,0,0)[0] intercept   : BIC=215.950, Time=0.21 sec\n",
            " ARIMA(0,0,0)(0,0,0)[0] intercept   : BIC=226.658, Time=0.01 sec\n",
            " ARIMA(1,0,0)(0,0,0)[0] intercept   : BIC=206.277, Time=0.03 sec\n",
            " ARIMA(0,0,1)(0,0,0)[0] intercept   : BIC=211.438, Time=0.04 sec\n",
            " ARIMA(0,0,0)(0,0,0)[0]             : BIC=223.021, Time=0.01 sec\n",
            " ARIMA(2,0,0)(0,0,0)[0] intercept   : BIC=209.723, Time=0.03 sec\n",
            " ARIMA(1,0,1)(0,0,0)[0] intercept   : BIC=209.420, Time=0.04 sec\n",
            " ARIMA(2,0,1)(0,0,0)[0] intercept   : BIC=212.763, Time=0.08 sec\n",
            " ARIMA(1,0,0)(0,0,0)[0]             : BIC=202.727, Time=0.03 sec\n",
            " ARIMA(2,0,0)(0,0,0)[0]             : BIC=206.146, Time=0.04 sec\n",
            " ARIMA(1,0,1)(0,0,0)[0]             : BIC=205.827, Time=0.03 sec\n",
            " ARIMA(0,0,1)(0,0,0)[0]             : BIC=207.808, Time=0.04 sec\n",
            " ARIMA(2,0,1)(0,0,0)[0]             : BIC=209.185, Time=0.05 sec\n",
            "\n",
            "Best model:  ARIMA(1,0,0)(0,0,0)[0]          \n",
            "Total fit time: 0.694 seconds\n"
          ]
        },
        {
          "output_type": "execute_result",
          "data": {
            "text/plain": [
              "ARIMA(order=(1, 0, 0), scoring_args={}, suppress_warnings=True,\n",
              "      with_intercept=False)"
            ],
            "text/html": [
              "<style>#sk-container-id-1 {color: black;background-color: white;}#sk-container-id-1 pre{padding: 0;}#sk-container-id-1 div.sk-toggleable {background-color: white;}#sk-container-id-1 label.sk-toggleable__label {cursor: pointer;display: block;width: 100%;margin-bottom: 0;padding: 0.3em;box-sizing: border-box;text-align: center;}#sk-container-id-1 label.sk-toggleable__label-arrow:before {content: \"▸\";float: left;margin-right: 0.25em;color: #696969;}#sk-container-id-1 label.sk-toggleable__label-arrow:hover:before {color: black;}#sk-container-id-1 div.sk-estimator:hover label.sk-toggleable__label-arrow:before {color: black;}#sk-container-id-1 div.sk-toggleable__content {max-height: 0;max-width: 0;overflow: hidden;text-align: left;background-color: #f0f8ff;}#sk-container-id-1 div.sk-toggleable__content pre {margin: 0.2em;color: black;border-radius: 0.25em;background-color: #f0f8ff;}#sk-container-id-1 input.sk-toggleable__control:checked~div.sk-toggleable__content {max-height: 200px;max-width: 100%;overflow: auto;}#sk-container-id-1 input.sk-toggleable__control:checked~label.sk-toggleable__label-arrow:before {content: \"▾\";}#sk-container-id-1 div.sk-estimator input.sk-toggleable__control:checked~label.sk-toggleable__label {background-color: #d4ebff;}#sk-container-id-1 div.sk-label input.sk-toggleable__control:checked~label.sk-toggleable__label {background-color: #d4ebff;}#sk-container-id-1 input.sk-hidden--visually {border: 0;clip: rect(1px 1px 1px 1px);clip: rect(1px, 1px, 1px, 1px);height: 1px;margin: -1px;overflow: hidden;padding: 0;position: absolute;width: 1px;}#sk-container-id-1 div.sk-estimator {font-family: monospace;background-color: #f0f8ff;border: 1px dotted black;border-radius: 0.25em;box-sizing: border-box;margin-bottom: 0.5em;}#sk-container-id-1 div.sk-estimator:hover {background-color: #d4ebff;}#sk-container-id-1 div.sk-parallel-item::after {content: \"\";width: 100%;border-bottom: 1px solid gray;flex-grow: 1;}#sk-container-id-1 div.sk-label:hover label.sk-toggleable__label {background-color: #d4ebff;}#sk-container-id-1 div.sk-serial::before {content: \"\";position: absolute;border-left: 1px solid gray;box-sizing: border-box;top: 0;bottom: 0;left: 50%;z-index: 0;}#sk-container-id-1 div.sk-serial {display: flex;flex-direction: column;align-items: center;background-color: white;padding-right: 0.2em;padding-left: 0.2em;position: relative;}#sk-container-id-1 div.sk-item {position: relative;z-index: 1;}#sk-container-id-1 div.sk-parallel {display: flex;align-items: stretch;justify-content: center;background-color: white;position: relative;}#sk-container-id-1 div.sk-item::before, #sk-container-id-1 div.sk-parallel-item::before {content: \"\";position: absolute;border-left: 1px solid gray;box-sizing: border-box;top: 0;bottom: 0;left: 50%;z-index: -1;}#sk-container-id-1 div.sk-parallel-item {display: flex;flex-direction: column;z-index: 1;position: relative;background-color: white;}#sk-container-id-1 div.sk-parallel-item:first-child::after {align-self: flex-end;width: 50%;}#sk-container-id-1 div.sk-parallel-item:last-child::after {align-self: flex-start;width: 50%;}#sk-container-id-1 div.sk-parallel-item:only-child::after {width: 0;}#sk-container-id-1 div.sk-dashed-wrapped {border: 1px dashed gray;margin: 0 0.4em 0.5em 0.4em;box-sizing: border-box;padding-bottom: 0.4em;background-color: white;}#sk-container-id-1 div.sk-label label {font-family: monospace;font-weight: bold;display: inline-block;line-height: 1.2em;}#sk-container-id-1 div.sk-label-container {text-align: center;}#sk-container-id-1 div.sk-container {/* jupyter's `normalize.less` sets `[hidden] { display: none; }` but bootstrap.min.css set `[hidden] { display: none !important; }` so we also need the `!important` here to be able to override the default hidden behavior on the sphinx rendered scikit-learn.org. See: https://github.com/scikit-learn/scikit-learn/issues/21755 */display: inline-block !important;position: relative;}#sk-container-id-1 div.sk-text-repr-fallback {display: none;}</style><div id=\"sk-container-id-1\" class=\"sk-top-container\"><div class=\"sk-text-repr-fallback\"><pre> ARIMA(1,0,0)(0,0,0)[0]          </pre><b>In a Jupyter environment, please rerun this cell to show the HTML representation or trust the notebook. <br />On GitHub, the HTML representation is unable to render, please try loading this page with nbviewer.org.</b></div><div class=\"sk-container\" hidden><div class=\"sk-item\"><div class=\"sk-estimator sk-toggleable\"><input class=\"sk-toggleable__control sk-hidden--visually\" id=\"sk-estimator-id-1\" type=\"checkbox\" checked><label for=\"sk-estimator-id-1\" class=\"sk-toggleable__label sk-toggleable__label-arrow\">ARIMA</label><div class=\"sk-toggleable__content\"><pre> ARIMA(1,0,0)(0,0,0)[0]          </pre></div></div></div></div></div>"
            ]
          },
          "metadata": {},
          "execution_count": 52
        }
      ]
    },
    {
      "cell_type": "markdown",
      "source": [
        "According to the above analysis, the best model to use would be ARIMA(1,0,0)(0,0,0)[0], which is a simple autoregressive model where the current value of the time series is linearly dependent on its immediately preceding value. It has a BIC of 206.277 and an intercept is supposed to be included."
      ],
      "metadata": {
        "id": "99gqt32ywW96"
      }
    },
    {
      "cell_type": "markdown",
      "source": [
        "### 9.​​Run ​​an ​​ARIMA​ ​that ​​follows​ ​from​ ​Step​ ​8. ​​​​Interpret​ ​that, ​​too."
      ],
      "metadata": {
        "id": "8TT-DVF-kBUc"
      }
    },
    {
      "cell_type": "code",
      "source": [
        "from statsmodels.tsa.arima_model import ARIMA\n",
        "from statsmodels.tsa.statespace.sarimax import SARIMAX\n",
        "\n",
        "by_year_ts['intercept'] = 1\n",
        "arima_hpp = SARIMAX(endog = by_year_ts['helppoor_pct'], order = (0, 0, 1),\n",
        "                      exog = by_year_ts[['ba_pct', 'year', 'intercept']]).fit(trend = 'nc')"
      ],
      "metadata": {
        "id": "yxcV0FAikLZM"
      },
      "execution_count": null,
      "outputs": []
    },
    {
      "cell_type": "code",
      "source": [
        "arima_hpp.summary()"
      ],
      "metadata": {
        "colab": {
          "base_uri": "https://localhost:8080/",
          "height": 473
        },
        "id": "o8p8YtROuTTl",
        "outputId": "8c7c5749-b192-4ce0-cb1a-258442151659"
      },
      "execution_count": null,
      "outputs": [
        {
          "output_type": "execute_result",
          "data": {
            "text/plain": [
              "<class 'statsmodels.iolib.summary.Summary'>\n",
              "\"\"\"\n",
              "                               SARIMAX Results                                \n",
              "==============================================================================\n",
              "Dep. Variable:           helppoor_pct   No. Observations:                   38\n",
              "Model:               SARIMAX(0, 0, 1)   Log Likelihood                -100.203\n",
              "Date:                Thu, 14 Dec 2023   AIC                            210.405\n",
              "Time:                        19:34:37   BIC                            218.593\n",
              "Sample:                             0   HQIC                           213.319\n",
              "                                 - 38                                         \n",
              "Covariance Type:                  opg                                         \n",
              "==============================================================================\n",
              "                 coef    std err          z      P>|z|      [0.025      0.975]\n",
              "------------------------------------------------------------------------------\n",
              "ba_pct        -1.8385      0.753     -2.441      0.015      -3.315      -0.362\n",
              "year           0.1602      0.323      0.496      0.620      -0.472       0.793\n",
              "intercept   -257.4692    627.877     -0.410      0.682   -1488.086     973.147\n",
              "ma.L1          0.6216      0.152      4.082      0.000       0.323       0.920\n",
              "sigma2        11.4512      3.070      3.730      0.000       5.434      17.468\n",
              "===================================================================================\n",
              "Ljung-Box (L1) (Q):                   2.31   Jarque-Bera (JB):                 3.62\n",
              "Prob(Q):                              0.13   Prob(JB):                         0.16\n",
              "Heteroskedasticity (H):               1.63   Skew:                            -0.65\n",
              "Prob(H) (two-sided):                  0.39   Kurtosis:                         3.77\n",
              "===================================================================================\n",
              "\n",
              "Warnings:\n",
              "[1] Covariance matrix calculated using the outer product of gradients (complex-step).\n",
              "\"\"\""
            ],
            "text/html": [
              "<table class=\"simpletable\">\n",
              "<caption>SARIMAX Results</caption>\n",
              "<tr>\n",
              "  <th>Dep. Variable:</th>     <td>helppoor_pct</td>   <th>  No. Observations:  </th>    <td>38</td>   \n",
              "</tr>\n",
              "<tr>\n",
              "  <th>Model:</th>           <td>SARIMAX(0, 0, 1)</td> <th>  Log Likelihood     </th> <td>-100.203</td>\n",
              "</tr>\n",
              "<tr>\n",
              "  <th>Date:</th>            <td>Thu, 14 Dec 2023</td> <th>  AIC                </th>  <td>210.405</td>\n",
              "</tr>\n",
              "<tr>\n",
              "  <th>Time:</th>                <td>19:34:37</td>     <th>  BIC                </th>  <td>218.593</td>\n",
              "</tr>\n",
              "<tr>\n",
              "  <th>Sample:</th>                  <td>0</td>        <th>  HQIC               </th>  <td>213.319</td>\n",
              "</tr>\n",
              "<tr>\n",
              "  <th></th>                       <td> - 38</td>      <th>                     </th>     <td> </td>   \n",
              "</tr>\n",
              "<tr>\n",
              "  <th>Covariance Type:</th>        <td>opg</td>       <th>                     </th>     <td> </td>   \n",
              "</tr>\n",
              "</table>\n",
              "<table class=\"simpletable\">\n",
              "<tr>\n",
              "      <td></td>         <th>coef</th>     <th>std err</th>      <th>z</th>      <th>P>|z|</th>  <th>[0.025</th>    <th>0.975]</th>  \n",
              "</tr>\n",
              "<tr>\n",
              "  <th>ba_pct</th>    <td>   -1.8385</td> <td>    0.753</td> <td>   -2.441</td> <td> 0.015</td> <td>   -3.315</td> <td>   -0.362</td>\n",
              "</tr>\n",
              "<tr>\n",
              "  <th>year</th>      <td>    0.1602</td> <td>    0.323</td> <td>    0.496</td> <td> 0.620</td> <td>   -0.472</td> <td>    0.793</td>\n",
              "</tr>\n",
              "<tr>\n",
              "  <th>intercept</th> <td> -257.4692</td> <td>  627.877</td> <td>   -0.410</td> <td> 0.682</td> <td>-1488.086</td> <td>  973.147</td>\n",
              "</tr>\n",
              "<tr>\n",
              "  <th>ma.L1</th>     <td>    0.6216</td> <td>    0.152</td> <td>    4.082</td> <td> 0.000</td> <td>    0.323</td> <td>    0.920</td>\n",
              "</tr>\n",
              "<tr>\n",
              "  <th>sigma2</th>    <td>   11.4512</td> <td>    3.070</td> <td>    3.730</td> <td> 0.000</td> <td>    5.434</td> <td>   17.468</td>\n",
              "</tr>\n",
              "</table>\n",
              "<table class=\"simpletable\">\n",
              "<tr>\n",
              "  <th>Ljung-Box (L1) (Q):</th>     <td>2.31</td> <th>  Jarque-Bera (JB):  </th> <td>3.62</td> \n",
              "</tr>\n",
              "<tr>\n",
              "  <th>Prob(Q):</th>                <td>0.13</td> <th>  Prob(JB):          </th> <td>0.16</td> \n",
              "</tr>\n",
              "<tr>\n",
              "  <th>Heteroskedasticity (H):</th> <td>1.63</td> <th>  Skew:              </th> <td>-0.65</td>\n",
              "</tr>\n",
              "<tr>\n",
              "  <th>Prob(H) (two-sided):</th>    <td>0.39</td> <th>  Kurtosis:          </th> <td>3.77</td> \n",
              "</tr>\n",
              "</table><br/><br/>Warnings:<br/>[1] Covariance matrix calculated using the outer product of gradients (complex-step)."
            ],
            "text/latex": "\\begin{center}\n\\begin{tabular}{lclc}\n\\toprule\n\\textbf{Dep. Variable:}          &  helppoor\\_pct   & \\textbf{  No. Observations:  } &     38      \\\\\n\\textbf{Model:}                  & SARIMAX(0, 0, 1) & \\textbf{  Log Likelihood     } &  -100.203   \\\\\n\\textbf{Date:}                   & Thu, 14 Dec 2023 & \\textbf{  AIC                } &  210.405    \\\\\n\\textbf{Time:}                   &     19:34:37     & \\textbf{  BIC                } &  218.593    \\\\\n\\textbf{Sample:}                 &        0         & \\textbf{  HQIC               } &  213.319    \\\\\n\\textbf{}                        &       - 38       & \\textbf{                     } &             \\\\\n\\textbf{Covariance Type:}        &       opg        & \\textbf{                     } &             \\\\\n\\bottomrule\n\\end{tabular}\n\\begin{tabular}{lcccccc}\n                   & \\textbf{coef} & \\textbf{std err} & \\textbf{z} & \\textbf{P$> |$z$|$} & \\textbf{[0.025} & \\textbf{0.975]}  \\\\\n\\midrule\n\\textbf{ba\\_pct}   &      -1.8385  &        0.753     &    -2.441  &         0.015        &       -3.315    &       -0.362     \\\\\n\\textbf{year}      &       0.1602  &        0.323     &     0.496  &         0.620        &       -0.472    &        0.793     \\\\\n\\textbf{intercept} &    -257.4692  &      627.877     &    -0.410  &         0.682        &    -1488.086    &      973.147     \\\\\n\\textbf{ma.L1}     &       0.6216  &        0.152     &     4.082  &         0.000        &        0.323    &        0.920     \\\\\n\\textbf{sigma2}    &      11.4512  &        3.070     &     3.730  &         0.000        &        5.434    &       17.468     \\\\\n\\bottomrule\n\\end{tabular}\n\\begin{tabular}{lclc}\n\\textbf{Ljung-Box (L1) (Q):}     & 2.31 & \\textbf{  Jarque-Bera (JB):  } &  3.62  \\\\\n\\textbf{Prob(Q):}                & 0.13 & \\textbf{  Prob(JB):          } &  0.16  \\\\\n\\textbf{Heteroskedasticity (H):} & 1.63 & \\textbf{  Skew:              } & -0.65  \\\\\n\\textbf{Prob(H) (two-sided):}    & 0.39 & \\textbf{  Kurtosis:          } &  3.77  \\\\\n\\bottomrule\n\\end{tabular}\n%\\caption{SARIMAX Results}\n\\end{center}\n\nWarnings: \\newline\n [1] Covariance matrix calculated using the outer product of gradients (complex-step)."
          },
          "metadata": {},
          "execution_count": 54
        }
      ]
    },
    {
      "cell_type": "markdown",
      "source": [
        "According to the above analysis, for a 1 point increase in the percent of people with a BA or higher degree, on average there is a -1.83 point decrease in the percent of people who think the government should help poors. It is statistically significant with a p-value less than 0.05.\n",
        "\n",
        "Moreover, with every year, there is on average a 0.16 point increase in the percent of people who think the government should help poors. It is not statistically significant with a p-value higher than 0.05.\n",
        "\n",
        "The BIC value is higher in this analysis at a value of 218.593 compared to what was returned in Q8, because we are running exogenous variables through the model."
      ],
      "metadata": {
        "id": "3TQupKJYwoPm"
      }
    },
    {
      "cell_type": "code",
      "source": [
        "from statsmodels.stats.diagnostic import acorr_ljungbox\n",
        "\n",
        "acorr_ljungbox(arima_hpp.resid, boxpierce = True, lags = round((len(by_year_ts)/2-2), 0))"
      ],
      "metadata": {
        "colab": {
          "base_uri": "https://localhost:8080/",
          "height": 582
        },
        "id": "9Mf3772puX2Z",
        "outputId": "59eff09b-dd41-4d42-b965-385700688ce5"
      },
      "execution_count": null,
      "outputs": [
        {
          "output_type": "execute_result",
          "data": {
            "text/plain": [
              "      lb_stat  lb_pvalue    bp_stat  bp_pvalue\n",
              "1    2.394341   0.121775   2.214765   0.136696\n",
              "2    7.088410   0.028892   6.439427   0.039967\n",
              "3    7.982510   0.046375   7.221765   0.065155\n",
              "4   11.146847   0.024962   9.911451   0.041946\n",
              "5   12.417647   0.029492  10.959861   0.052182\n",
              "6   12.874709   0.045069  11.325511   0.078822\n",
              "7   12.973791   0.072750  11.402300   0.122008\n",
              "8   13.884843   0.084817  12.085589   0.147426\n",
              "9   14.519155   0.105019  12.545465   0.184275\n",
              "10  14.753523   0.141310  12.709522   0.240369\n",
              "11  14.768619   0.193337  12.719712   0.312039\n",
              "12  15.104994   0.235745  12.938356   0.373537\n",
              "13  15.171597   0.296763  12.979983   0.449359\n",
              "14  15.264447   0.360320  13.035693   0.523715\n",
              "15  16.023736   0.380476  13.472284   0.565868\n",
              "16  17.165768   0.374950  14.100402   0.591234\n",
              "17  17.731531   0.405964  14.397427   0.638797"
            ],
            "text/html": [
              "\n",
              "  <div id=\"df-28a645bc-a6fb-4a48-90e7-009a17e0418d\" class=\"colab-df-container\">\n",
              "    <div>\n",
              "<style scoped>\n",
              "    .dataframe tbody tr th:only-of-type {\n",
              "        vertical-align: middle;\n",
              "    }\n",
              "\n",
              "    .dataframe tbody tr th {\n",
              "        vertical-align: top;\n",
              "    }\n",
              "\n",
              "    .dataframe thead th {\n",
              "        text-align: right;\n",
              "    }\n",
              "</style>\n",
              "<table border=\"1\" class=\"dataframe\">\n",
              "  <thead>\n",
              "    <tr style=\"text-align: right;\">\n",
              "      <th></th>\n",
              "      <th>lb_stat</th>\n",
              "      <th>lb_pvalue</th>\n",
              "      <th>bp_stat</th>\n",
              "      <th>bp_pvalue</th>\n",
              "    </tr>\n",
              "  </thead>\n",
              "  <tbody>\n",
              "    <tr>\n",
              "      <th>1</th>\n",
              "      <td>2.394341</td>\n",
              "      <td>0.121775</td>\n",
              "      <td>2.214765</td>\n",
              "      <td>0.136696</td>\n",
              "    </tr>\n",
              "    <tr>\n",
              "      <th>2</th>\n",
              "      <td>7.088410</td>\n",
              "      <td>0.028892</td>\n",
              "      <td>6.439427</td>\n",
              "      <td>0.039967</td>\n",
              "    </tr>\n",
              "    <tr>\n",
              "      <th>3</th>\n",
              "      <td>7.982510</td>\n",
              "      <td>0.046375</td>\n",
              "      <td>7.221765</td>\n",
              "      <td>0.065155</td>\n",
              "    </tr>\n",
              "    <tr>\n",
              "      <th>4</th>\n",
              "      <td>11.146847</td>\n",
              "      <td>0.024962</td>\n",
              "      <td>9.911451</td>\n",
              "      <td>0.041946</td>\n",
              "    </tr>\n",
              "    <tr>\n",
              "      <th>5</th>\n",
              "      <td>12.417647</td>\n",
              "      <td>0.029492</td>\n",
              "      <td>10.959861</td>\n",
              "      <td>0.052182</td>\n",
              "    </tr>\n",
              "    <tr>\n",
              "      <th>6</th>\n",
              "      <td>12.874709</td>\n",
              "      <td>0.045069</td>\n",
              "      <td>11.325511</td>\n",
              "      <td>0.078822</td>\n",
              "    </tr>\n",
              "    <tr>\n",
              "      <th>7</th>\n",
              "      <td>12.973791</td>\n",
              "      <td>0.072750</td>\n",
              "      <td>11.402300</td>\n",
              "      <td>0.122008</td>\n",
              "    </tr>\n",
              "    <tr>\n",
              "      <th>8</th>\n",
              "      <td>13.884843</td>\n",
              "      <td>0.084817</td>\n",
              "      <td>12.085589</td>\n",
              "      <td>0.147426</td>\n",
              "    </tr>\n",
              "    <tr>\n",
              "      <th>9</th>\n",
              "      <td>14.519155</td>\n",
              "      <td>0.105019</td>\n",
              "      <td>12.545465</td>\n",
              "      <td>0.184275</td>\n",
              "    </tr>\n",
              "    <tr>\n",
              "      <th>10</th>\n",
              "      <td>14.753523</td>\n",
              "      <td>0.141310</td>\n",
              "      <td>12.709522</td>\n",
              "      <td>0.240369</td>\n",
              "    </tr>\n",
              "    <tr>\n",
              "      <th>11</th>\n",
              "      <td>14.768619</td>\n",
              "      <td>0.193337</td>\n",
              "      <td>12.719712</td>\n",
              "      <td>0.312039</td>\n",
              "    </tr>\n",
              "    <tr>\n",
              "      <th>12</th>\n",
              "      <td>15.104994</td>\n",
              "      <td>0.235745</td>\n",
              "      <td>12.938356</td>\n",
              "      <td>0.373537</td>\n",
              "    </tr>\n",
              "    <tr>\n",
              "      <th>13</th>\n",
              "      <td>15.171597</td>\n",
              "      <td>0.296763</td>\n",
              "      <td>12.979983</td>\n",
              "      <td>0.449359</td>\n",
              "    </tr>\n",
              "    <tr>\n",
              "      <th>14</th>\n",
              "      <td>15.264447</td>\n",
              "      <td>0.360320</td>\n",
              "      <td>13.035693</td>\n",
              "      <td>0.523715</td>\n",
              "    </tr>\n",
              "    <tr>\n",
              "      <th>15</th>\n",
              "      <td>16.023736</td>\n",
              "      <td>0.380476</td>\n",
              "      <td>13.472284</td>\n",
              "      <td>0.565868</td>\n",
              "    </tr>\n",
              "    <tr>\n",
              "      <th>16</th>\n",
              "      <td>17.165768</td>\n",
              "      <td>0.374950</td>\n",
              "      <td>14.100402</td>\n",
              "      <td>0.591234</td>\n",
              "    </tr>\n",
              "    <tr>\n",
              "      <th>17</th>\n",
              "      <td>17.731531</td>\n",
              "      <td>0.405964</td>\n",
              "      <td>14.397427</td>\n",
              "      <td>0.638797</td>\n",
              "    </tr>\n",
              "  </tbody>\n",
              "</table>\n",
              "</div>\n",
              "    <div class=\"colab-df-buttons\">\n",
              "\n",
              "  <div class=\"colab-df-container\">\n",
              "    <button class=\"colab-df-convert\" onclick=\"convertToInteractive('df-28a645bc-a6fb-4a48-90e7-009a17e0418d')\"\n",
              "            title=\"Convert this dataframe to an interactive table.\"\n",
              "            style=\"display:none;\">\n",
              "\n",
              "  <svg xmlns=\"http://www.w3.org/2000/svg\" height=\"24px\" viewBox=\"0 -960 960 960\">\n",
              "    <path d=\"M120-120v-720h720v720H120Zm60-500h600v-160H180v160Zm220 220h160v-160H400v160Zm0 220h160v-160H400v160ZM180-400h160v-160H180v160Zm440 0h160v-160H620v160ZM180-180h160v-160H180v160Zm440 0h160v-160H620v160Z\"/>\n",
              "  </svg>\n",
              "    </button>\n",
              "\n",
              "  <style>\n",
              "    .colab-df-container {\n",
              "      display:flex;\n",
              "      gap: 12px;\n",
              "    }\n",
              "\n",
              "    .colab-df-convert {\n",
              "      background-color: #E8F0FE;\n",
              "      border: none;\n",
              "      border-radius: 50%;\n",
              "      cursor: pointer;\n",
              "      display: none;\n",
              "      fill: #1967D2;\n",
              "      height: 32px;\n",
              "      padding: 0 0 0 0;\n",
              "      width: 32px;\n",
              "    }\n",
              "\n",
              "    .colab-df-convert:hover {\n",
              "      background-color: #E2EBFA;\n",
              "      box-shadow: 0px 1px 2px rgba(60, 64, 67, 0.3), 0px 1px 3px 1px rgba(60, 64, 67, 0.15);\n",
              "      fill: #174EA6;\n",
              "    }\n",
              "\n",
              "    .colab-df-buttons div {\n",
              "      margin-bottom: 4px;\n",
              "    }\n",
              "\n",
              "    [theme=dark] .colab-df-convert {\n",
              "      background-color: #3B4455;\n",
              "      fill: #D2E3FC;\n",
              "    }\n",
              "\n",
              "    [theme=dark] .colab-df-convert:hover {\n",
              "      background-color: #434B5C;\n",
              "      box-shadow: 0px 1px 3px 1px rgba(0, 0, 0, 0.15);\n",
              "      filter: drop-shadow(0px 1px 2px rgba(0, 0, 0, 0.3));\n",
              "      fill: #FFFFFF;\n",
              "    }\n",
              "  </style>\n",
              "\n",
              "    <script>\n",
              "      const buttonEl =\n",
              "        document.querySelector('#df-28a645bc-a6fb-4a48-90e7-009a17e0418d button.colab-df-convert');\n",
              "      buttonEl.style.display =\n",
              "        google.colab.kernel.accessAllowed ? 'block' : 'none';\n",
              "\n",
              "      async function convertToInteractive(key) {\n",
              "        const element = document.querySelector('#df-28a645bc-a6fb-4a48-90e7-009a17e0418d');\n",
              "        const dataTable =\n",
              "          await google.colab.kernel.invokeFunction('convertToInteractive',\n",
              "                                                    [key], {});\n",
              "        if (!dataTable) return;\n",
              "\n",
              "        const docLinkHtml = 'Like what you see? Visit the ' +\n",
              "          '<a target=\"_blank\" href=https://colab.research.google.com/notebooks/data_table.ipynb>data table notebook</a>'\n",
              "          + ' to learn more about interactive tables.';\n",
              "        element.innerHTML = '';\n",
              "        dataTable['output_type'] = 'display_data';\n",
              "        await google.colab.output.renderOutput(dataTable, element);\n",
              "        const docLink = document.createElement('div');\n",
              "        docLink.innerHTML = docLinkHtml;\n",
              "        element.appendChild(docLink);\n",
              "      }\n",
              "    </script>\n",
              "  </div>\n",
              "\n",
              "\n",
              "<div id=\"df-d037dba5-92f2-46e3-9e1f-8af2fee6a125\">\n",
              "  <button class=\"colab-df-quickchart\" onclick=\"quickchart('df-d037dba5-92f2-46e3-9e1f-8af2fee6a125')\"\n",
              "            title=\"Suggest charts\"\n",
              "            style=\"display:none;\">\n",
              "\n",
              "<svg xmlns=\"http://www.w3.org/2000/svg\" height=\"24px\"viewBox=\"0 0 24 24\"\n",
              "     width=\"24px\">\n",
              "    <g>\n",
              "        <path d=\"M19 3H5c-1.1 0-2 .9-2 2v14c0 1.1.9 2 2 2h14c1.1 0 2-.9 2-2V5c0-1.1-.9-2-2-2zM9 17H7v-7h2v7zm4 0h-2V7h2v10zm4 0h-2v-4h2v4z\"/>\n",
              "    </g>\n",
              "</svg>\n",
              "  </button>\n",
              "\n",
              "<style>\n",
              "  .colab-df-quickchart {\n",
              "      --bg-color: #E8F0FE;\n",
              "      --fill-color: #1967D2;\n",
              "      --hover-bg-color: #E2EBFA;\n",
              "      --hover-fill-color: #174EA6;\n",
              "      --disabled-fill-color: #AAA;\n",
              "      --disabled-bg-color: #DDD;\n",
              "  }\n",
              "\n",
              "  [theme=dark] .colab-df-quickchart {\n",
              "      --bg-color: #3B4455;\n",
              "      --fill-color: #D2E3FC;\n",
              "      --hover-bg-color: #434B5C;\n",
              "      --hover-fill-color: #FFFFFF;\n",
              "      --disabled-bg-color: #3B4455;\n",
              "      --disabled-fill-color: #666;\n",
              "  }\n",
              "\n",
              "  .colab-df-quickchart {\n",
              "    background-color: var(--bg-color);\n",
              "    border: none;\n",
              "    border-radius: 50%;\n",
              "    cursor: pointer;\n",
              "    display: none;\n",
              "    fill: var(--fill-color);\n",
              "    height: 32px;\n",
              "    padding: 0;\n",
              "    width: 32px;\n",
              "  }\n",
              "\n",
              "  .colab-df-quickchart:hover {\n",
              "    background-color: var(--hover-bg-color);\n",
              "    box-shadow: 0 1px 2px rgba(60, 64, 67, 0.3), 0 1px 3px 1px rgba(60, 64, 67, 0.15);\n",
              "    fill: var(--button-hover-fill-color);\n",
              "  }\n",
              "\n",
              "  .colab-df-quickchart-complete:disabled,\n",
              "  .colab-df-quickchart-complete:disabled:hover {\n",
              "    background-color: var(--disabled-bg-color);\n",
              "    fill: var(--disabled-fill-color);\n",
              "    box-shadow: none;\n",
              "  }\n",
              "\n",
              "  .colab-df-spinner {\n",
              "    border: 2px solid var(--fill-color);\n",
              "    border-color: transparent;\n",
              "    border-bottom-color: var(--fill-color);\n",
              "    animation:\n",
              "      spin 1s steps(1) infinite;\n",
              "  }\n",
              "\n",
              "  @keyframes spin {\n",
              "    0% {\n",
              "      border-color: transparent;\n",
              "      border-bottom-color: var(--fill-color);\n",
              "      border-left-color: var(--fill-color);\n",
              "    }\n",
              "    20% {\n",
              "      border-color: transparent;\n",
              "      border-left-color: var(--fill-color);\n",
              "      border-top-color: var(--fill-color);\n",
              "    }\n",
              "    30% {\n",
              "      border-color: transparent;\n",
              "      border-left-color: var(--fill-color);\n",
              "      border-top-color: var(--fill-color);\n",
              "      border-right-color: var(--fill-color);\n",
              "    }\n",
              "    40% {\n",
              "      border-color: transparent;\n",
              "      border-right-color: var(--fill-color);\n",
              "      border-top-color: var(--fill-color);\n",
              "    }\n",
              "    60% {\n",
              "      border-color: transparent;\n",
              "      border-right-color: var(--fill-color);\n",
              "    }\n",
              "    80% {\n",
              "      border-color: transparent;\n",
              "      border-right-color: var(--fill-color);\n",
              "      border-bottom-color: var(--fill-color);\n",
              "    }\n",
              "    90% {\n",
              "      border-color: transparent;\n",
              "      border-bottom-color: var(--fill-color);\n",
              "    }\n",
              "  }\n",
              "</style>\n",
              "\n",
              "  <script>\n",
              "    async function quickchart(key) {\n",
              "      const quickchartButtonEl =\n",
              "        document.querySelector('#' + key + ' button');\n",
              "      quickchartButtonEl.disabled = true;  // To prevent multiple clicks.\n",
              "      quickchartButtonEl.classList.add('colab-df-spinner');\n",
              "      try {\n",
              "        const charts = await google.colab.kernel.invokeFunction(\n",
              "            'suggestCharts', [key], {});\n",
              "      } catch (error) {\n",
              "        console.error('Error during call to suggestCharts:', error);\n",
              "      }\n",
              "      quickchartButtonEl.classList.remove('colab-df-spinner');\n",
              "      quickchartButtonEl.classList.add('colab-df-quickchart-complete');\n",
              "    }\n",
              "    (() => {\n",
              "      let quickchartButtonEl =\n",
              "        document.querySelector('#df-d037dba5-92f2-46e3-9e1f-8af2fee6a125 button');\n",
              "      quickchartButtonEl.style.display =\n",
              "        google.colab.kernel.accessAllowed ? 'block' : 'none';\n",
              "    })();\n",
              "  </script>\n",
              "</div>\n",
              "    </div>\n",
              "  </div>\n"
            ]
          },
          "metadata": {},
          "execution_count": 55
        }
      ]
    },
    {
      "cell_type": "markdown",
      "source": [
        "Here, we can see that some of the p-values of both tests are statistically significant, which shows that there is autocorrelation."
      ],
      "metadata": {
        "id": "m4iMTkk2wxcn"
      }
    }
  ]
}